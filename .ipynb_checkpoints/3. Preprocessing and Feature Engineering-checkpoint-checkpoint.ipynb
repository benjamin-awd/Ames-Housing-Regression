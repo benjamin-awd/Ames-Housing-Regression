{
 "cells": [
  {
   "cell_type": "code",
   "execution_count": 1,
   "metadata": {},
   "outputs": [],
   "source": [
    "# Importing libraries\n",
    "import pandas as pd\n",
    "import numpy as np\n",
    "import matplotlib.pyplot as plt\n",
    "import seaborn as sns\n",
    "%matplotlib inline"
   ]
  },
  {
   "cell_type": "code",
   "execution_count": 2,
   "metadata": {},
   "outputs": [],
   "source": [
    "from sklearn.model_selection import train_test_split, cross_val_score\n",
    "from sklearn.feature_selection import SelectKBest, f_regression, RFE\n",
    "from sklearn.linear_model import LinearRegression, LassoCV, RidgeCV, ElasticNetCV\n",
    "from sklearn.preprocessing import StandardScaler\n",
    "from sklearn.metrics import mean_squared_error, r2_score\n",
    "\n",
    "import statsmodels.api as sm\n",
    "from statsmodels.stats.outliers_influence import variance_inflation_factor"
   ]
  },
  {
   "cell_type": "code",
   "execution_count": 3,
   "metadata": {},
   "outputs": [],
   "source": [
    "# Import cleaned datasets\n",
    "housing = pd.read_csv('./datasets/housing_cleaned.csv')\n",
    "test = pd.read_csv('./datasets/test_cleaned.csv')"
   ]
  },
  {
   "cell_type": "code",
   "execution_count": 4,
   "metadata": {},
   "outputs": [],
   "source": [
    "# Change display settings\n",
    "pd.options.display.max_rows = housing.shape[1]\n",
    "pd.options.display.max_columns = housing.shape[1]"
   ]
  },
  {
   "cell_type": "markdown",
   "metadata": {},
   "source": [
    "# Feature Selection"
   ]
  },
  {
   "cell_type": "markdown",
   "metadata": {
    "deletable": false,
    "editable": false,
    "run_control": {
     "frozen": true
    }
   },
   "source": [
    "## Dealing with High Pairwise Correlation"
   ]
  },
  {
   "cell_type": "code",
   "execution_count": 5,
   "metadata": {},
   "outputs": [
    {
     "data": {
      "text/plain": [
       "(2049, 228)"
      ]
     },
     "execution_count": 5,
     "metadata": {},
     "output_type": "execute_result"
    }
   ],
   "source": [
    "# 228 features -- that's a lot!\n",
    "housing.shape"
   ]
  },
  {
   "cell_type": "code",
   "execution_count": 6,
   "metadata": {
    "scrolled": true
   },
   "outputs": [],
   "source": [
    "# Create matrix of all feature correlations with a mask to prevent duplication\n",
    "corr_matrix = housing.corr().abs()\n",
    "\n",
    "sol = (corr_matrix.where(np.triu(np.ones(corr_matrix.shape), k=1).astype(np.bool))\n",
    "                  .stack()\n",
    "                  .sort_values(ascending=False))\n",
    "\n",
    "# Convert to dataframe and reset multi-level index\n",
    "corr_df = pd.DataFrame(sol.head(21)).reset_index()\n",
    "\n",
    "# Rename columns\n",
    "corr_df.columns = 'v1', 'v2', 'pair_corr'"
   ]
  },
  {
   "cell_type": "code",
   "execution_count": 7,
   "metadata": {},
   "outputs": [],
   "source": [
    "def corr_target(row):\n",
    "    row['v1_y_corr'] = housing.corr()['SalePrice'][row['v1']]\n",
    "    row['v2_y_corr'] = housing.corr()['SalePrice'][row['v2']]\n",
    "    return row"
   ]
  },
  {
   "cell_type": "code",
   "execution_count": 8,
   "metadata": {},
   "outputs": [],
   "source": [
    "# Create df with pairwise correlation and correlation to target\n",
    "corr_df = corr_df.apply(corr_target, axis=1)"
   ]
  },
  {
   "cell_type": "code",
   "execution_count": 9,
   "metadata": {
    "scrolled": true
   },
   "outputs": [
    {
     "data": {
      "text/html": [
       "<div>\n",
       "<style scoped>\n",
       "    .dataframe tbody tr th:only-of-type {\n",
       "        vertical-align: middle;\n",
       "    }\n",
       "\n",
       "    .dataframe tbody tr th {\n",
       "        vertical-align: top;\n",
       "    }\n",
       "\n",
       "    .dataframe thead th {\n",
       "        text-align: right;\n",
       "    }\n",
       "</style>\n",
       "<table border=\"1\" class=\"dataframe\">\n",
       "  <thead>\n",
       "    <tr style=\"text-align: right;\">\n",
       "      <th></th>\n",
       "      <th>v1</th>\n",
       "      <th>v2</th>\n",
       "      <th>pair_corr</th>\n",
       "      <th>v1_y_corr</th>\n",
       "      <th>v2_y_corr</th>\n",
       "    </tr>\n",
       "  </thead>\n",
       "  <tbody>\n",
       "    <tr>\n",
       "      <th>0</th>\n",
       "      <td>Central Air_N</td>\n",
       "      <td>Central Air_Y</td>\n",
       "      <td>1.000000</td>\n",
       "      <td>-0.277425</td>\n",
       "      <td>0.277425</td>\n",
       "    </tr>\n",
       "    <tr>\n",
       "      <th>1</th>\n",
       "      <td>Street_Grvl</td>\n",
       "      <td>Street_Pave</td>\n",
       "      <td>1.000000</td>\n",
       "      <td>-0.069850</td>\n",
       "      <td>0.069850</td>\n",
       "    </tr>\n",
       "    <tr>\n",
       "      <th>2</th>\n",
       "      <td>Bldg Type_Duplex</td>\n",
       "      <td>MS SubClass_90</td>\n",
       "      <td>1.000000</td>\n",
       "      <td>-0.103716</td>\n",
       "      <td>-0.103716</td>\n",
       "    </tr>\n",
       "    <tr>\n",
       "      <th>3</th>\n",
       "      <td>Exterior 1st_CemntBd</td>\n",
       "      <td>Exterior 2nd_CmentBd</td>\n",
       "      <td>0.988254</td>\n",
       "      <td>0.168318</td>\n",
       "      <td>0.157748</td>\n",
       "    </tr>\n",
       "    <tr>\n",
       "      <th>4</th>\n",
       "      <td>Bldg Type_2fmCon</td>\n",
       "      <td>MS SubClass_190</td>\n",
       "      <td>0.977762</td>\n",
       "      <td>-0.111444</td>\n",
       "      <td>-0.109283</td>\n",
       "    </tr>\n",
       "    <tr>\n",
       "      <th>5</th>\n",
       "      <td>Exterior 1st_VinylSd</td>\n",
       "      <td>Exterior 2nd_VinylSd</td>\n",
       "      <td>0.977557</td>\n",
       "      <td>0.342156</td>\n",
       "      <td>0.337571</td>\n",
       "    </tr>\n",
       "    <tr>\n",
       "      <th>6</th>\n",
       "      <td>Exterior 1st_MetalSd</td>\n",
       "      <td>Exterior 2nd_MetalSd</td>\n",
       "      <td>0.976456</td>\n",
       "      <td>-0.149919</td>\n",
       "      <td>-0.139405</td>\n",
       "    </tr>\n",
       "    <tr>\n",
       "      <th>7</th>\n",
       "      <td>Id</td>\n",
       "      <td>Yr Sold</td>\n",
       "      <td>0.975765</td>\n",
       "      <td>-0.051416</td>\n",
       "      <td>-0.015174</td>\n",
       "    </tr>\n",
       "    <tr>\n",
       "      <th>8</th>\n",
       "      <td>House Style_SLvl</td>\n",
       "      <td>MS SubClass_80</td>\n",
       "      <td>0.954550</td>\n",
       "      <td>-0.042126</td>\n",
       "      <td>-0.031443</td>\n",
       "    </tr>\n",
       "    <tr>\n",
       "      <th>9</th>\n",
       "      <td>Garage Qual</td>\n",
       "      <td>Garage Cond</td>\n",
       "      <td>0.950489</td>\n",
       "      <td>0.285328</td>\n",
       "      <td>0.265066</td>\n",
       "    </tr>\n",
       "    <tr>\n",
       "      <th>10</th>\n",
       "      <td>Roof Style_Gable</td>\n",
       "      <td>Roof Style_Hip</td>\n",
       "      <td>0.948244</td>\n",
       "      <td>-0.250019</td>\n",
       "      <td>0.266010</td>\n",
       "    </tr>\n",
       "    <tr>\n",
       "      <th>11</th>\n",
       "      <td>House Style_1.5Fin</td>\n",
       "      <td>MS SubClass_50</td>\n",
       "      <td>0.942505</td>\n",
       "      <td>-0.195858</td>\n",
       "      <td>-0.182388</td>\n",
       "    </tr>\n",
       "    <tr>\n",
       "      <th>12</th>\n",
       "      <td>Garage Cars</td>\n",
       "      <td>Garage Area</td>\n",
       "      <td>0.897310</td>\n",
       "      <td>0.648227</td>\n",
       "      <td>0.655097</td>\n",
       "    </tr>\n",
       "    <tr>\n",
       "      <th>13</th>\n",
       "      <td>Exterior 1st_HdBoard</td>\n",
       "      <td>Exterior 2nd_HdBoard</td>\n",
       "      <td>0.885859</td>\n",
       "      <td>-0.114392</td>\n",
       "      <td>-0.102518</td>\n",
       "    </tr>\n",
       "    <tr>\n",
       "      <th>14</th>\n",
       "      <td>MS Zoning_FV</td>\n",
       "      <td>Neighborhood_Somerst</td>\n",
       "      <td>0.874847</td>\n",
       "      <td>0.106673</td>\n",
       "      <td>0.150056</td>\n",
       "    </tr>\n",
       "    <tr>\n",
       "      <th>15</th>\n",
       "      <td>House Style_1.5Unf</td>\n",
       "      <td>MS SubClass_45</td>\n",
       "      <td>0.869662</td>\n",
       "      <td>-0.066815</td>\n",
       "      <td>-0.060335</td>\n",
       "    </tr>\n",
       "    <tr>\n",
       "      <th>16</th>\n",
       "      <td>Fireplaces</td>\n",
       "      <td>Fireplace Qu</td>\n",
       "      <td>0.860785</td>\n",
       "      <td>0.473783</td>\n",
       "      <td>0.539484</td>\n",
       "    </tr>\n",
       "    <tr>\n",
       "      <th>17</th>\n",
       "      <td>Exterior 1st_Wd Sdng</td>\n",
       "      <td>Exterior 2nd_Wd Sdng</td>\n",
       "      <td>0.859184</td>\n",
       "      <td>-0.191799</td>\n",
       "      <td>-0.173032</td>\n",
       "    </tr>\n",
       "    <tr>\n",
       "      <th>18</th>\n",
       "      <td>Pool Area</td>\n",
       "      <td>Pool QC</td>\n",
       "      <td>0.857544</td>\n",
       "      <td>0.025805</td>\n",
       "      <td>0.035535</td>\n",
       "    </tr>\n",
       "    <tr>\n",
       "      <th>19</th>\n",
       "      <td>Year Built</td>\n",
       "      <td>Garage Yr Blt</td>\n",
       "      <td>0.846403</td>\n",
       "      <td>0.572405</td>\n",
       "      <td>0.550829</td>\n",
       "    </tr>\n",
       "    <tr>\n",
       "      <th>20</th>\n",
       "      <td>Neighborhood_NPkVill</td>\n",
       "      <td>Exterior 2nd_Brk Cmn</td>\n",
       "      <td>0.822053</td>\n",
       "      <td>-0.047307</td>\n",
       "      <td>-0.047905</td>\n",
       "    </tr>\n",
       "  </tbody>\n",
       "</table>\n",
       "</div>"
      ],
      "text/plain": [
       "                      v1                    v2  pair_corr  v1_y_corr  \\\n",
       "0          Central Air_N         Central Air_Y   1.000000  -0.277425   \n",
       "1            Street_Grvl           Street_Pave   1.000000  -0.069850   \n",
       "2       Bldg Type_Duplex        MS SubClass_90   1.000000  -0.103716   \n",
       "3   Exterior 1st_CemntBd  Exterior 2nd_CmentBd   0.988254   0.168318   \n",
       "4       Bldg Type_2fmCon       MS SubClass_190   0.977762  -0.111444   \n",
       "5   Exterior 1st_VinylSd  Exterior 2nd_VinylSd   0.977557   0.342156   \n",
       "6   Exterior 1st_MetalSd  Exterior 2nd_MetalSd   0.976456  -0.149919   \n",
       "7                     Id               Yr Sold   0.975765  -0.051416   \n",
       "8       House Style_SLvl        MS SubClass_80   0.954550  -0.042126   \n",
       "9            Garage Qual           Garage Cond   0.950489   0.285328   \n",
       "10      Roof Style_Gable        Roof Style_Hip   0.948244  -0.250019   \n",
       "11    House Style_1.5Fin        MS SubClass_50   0.942505  -0.195858   \n",
       "12           Garage Cars           Garage Area   0.897310   0.648227   \n",
       "13  Exterior 1st_HdBoard  Exterior 2nd_HdBoard   0.885859  -0.114392   \n",
       "14          MS Zoning_FV  Neighborhood_Somerst   0.874847   0.106673   \n",
       "15    House Style_1.5Unf        MS SubClass_45   0.869662  -0.066815   \n",
       "16            Fireplaces          Fireplace Qu   0.860785   0.473783   \n",
       "17  Exterior 1st_Wd Sdng  Exterior 2nd_Wd Sdng   0.859184  -0.191799   \n",
       "18             Pool Area               Pool QC   0.857544   0.025805   \n",
       "19            Year Built         Garage Yr Blt   0.846403   0.572405   \n",
       "20  Neighborhood_NPkVill  Exterior 2nd_Brk Cmn   0.822053  -0.047307   \n",
       "\n",
       "    v2_y_corr  \n",
       "0    0.277425  \n",
       "1    0.069850  \n",
       "2   -0.103716  \n",
       "3    0.157748  \n",
       "4   -0.109283  \n",
       "5    0.337571  \n",
       "6   -0.139405  \n",
       "7   -0.015174  \n",
       "8   -0.031443  \n",
       "9    0.265066  \n",
       "10   0.266010  \n",
       "11  -0.182388  \n",
       "12   0.655097  \n",
       "13  -0.102518  \n",
       "14   0.150056  \n",
       "15  -0.060335  \n",
       "16   0.539484  \n",
       "17  -0.173032  \n",
       "18   0.035535  \n",
       "19   0.550829  \n",
       "20  -0.047905  "
      ]
     },
     "execution_count": 9,
     "metadata": {},
     "output_type": "execute_result"
    }
   ],
   "source": [
    "corr_df"
   ]
  },
  {
   "cell_type": "markdown",
   "metadata": {},
   "source": [
    "#### Feature Engineering"
   ]
  },
  {
   "cell_type": "code",
   "execution_count": 10,
   "metadata": {},
   "outputs": [],
   "source": [
    "# We notice that Exterior features tend to have a pretty high correlation with each other. Before we go further,\n",
    "# we'll combine all exterior features into an interaction category."
   ]
  },
  {
   "cell_type": "code",
   "execution_count": 11,
   "metadata": {},
   "outputs": [],
   "source": [
    "# Stanardize column names\n",
    "housing = housing.rename(columns={'Exterior 2nd_Wd Shng': 'Exterior 2nd_WdShing'})\n",
    "housing = housing.rename(columns={'Exterior 2nd_Brk Cmn': 'Exterior 2nd_BrkComm'})\n",
    "housing = housing.rename(columns={'Exterior 2nd_CmentBd': 'Exterior 2nd_CemntBd'})"
   ]
  },
  {
   "cell_type": "code",
   "execution_count": 12,
   "metadata": {},
   "outputs": [
    {
     "data": {
      "text/plain": [
       "Index(['Exterior 1st_AsbShng', 'Exterior 1st_AsphShn', 'Exterior 1st_BrkComm',\n",
       "       'Exterior 1st_BrkFace', 'Exterior 1st_CBlock', 'Exterior 1st_CemntBd',\n",
       "       'Exterior 1st_HdBoard', 'Exterior 1st_ImStucc', 'Exterior 1st_MetalSd',\n",
       "       'Exterior 1st_Plywood', 'Exterior 1st_Stone', 'Exterior 1st_Stucco',\n",
       "       'Exterior 1st_VinylSd', 'Exterior 1st_Wd Sdng', 'Exterior 1st_WdShing'],\n",
       "      dtype='object')"
      ]
     },
     "execution_count": 12,
     "metadata": {},
     "output_type": "execute_result"
    }
   ],
   "source": [
    "ext_feats = housing.columns[housing.columns.str.contains('Exterior 1st')]\n",
    "ext_feats"
   ]
  },
  {
   "cell_type": "code",
   "execution_count": 13,
   "metadata": {},
   "outputs": [],
   "source": [
    "# Create interaction columns for Exterior features\n",
    "for i in ext_feats:\n",
    "    ext_type = i.split('_')[1]\n",
    "    housing[f'Ext{ext_type}'] = housing[f'Exterior 1st_{ext_type}'] * housing[f'Exterior 2nd_{ext_type}']\n",
    "    housing = housing.drop([f'Exterior 1st_{ext_type}', f'Exterior 2nd_{ext_type}'], axis=1)"
   ]
  },
  {
   "cell_type": "code",
   "execution_count": 14,
   "metadata": {},
   "outputs": [],
   "source": [
    "# Dropping due to perfect pairwise correlation score of 1\n",
    "housing = housing.drop(['Street_Grvl', 'MS SubClass_190', 'Central Air_N'], axis=1)"
   ]
  },
  {
   "cell_type": "code",
   "execution_count": 15,
   "metadata": {},
   "outputs": [],
   "source": [
    "# Dropping due to perfect pairwise correlation with Bldg Type_Duplex\n",
    "housing = housing.drop(['MS SubClass_90'], axis=1)"
   ]
  },
  {
   "cell_type": "code",
   "execution_count": 16,
   "metadata": {},
   "outputs": [],
   "source": [
    "# Dropping ID -- not interpretable & Yr Sold has a higher absolute correlation to sale price\n",
    "housing = housing.drop(['Id'], axis=1)"
   ]
  },
  {
   "cell_type": "code",
   "execution_count": 17,
   "metadata": {},
   "outputs": [],
   "source": [
    "# Drop MS SubClass_80 -- same as House Style_SLevel but lower\n",
    "housing = housing.drop('MS SubClass_80', axis=1)"
   ]
  },
  {
   "cell_type": "code",
   "execution_count": 18,
   "metadata": {},
   "outputs": [],
   "source": [
    "# Drop MS SubClass_50 -- same as House Style_1.5Fin but lower\n",
    "housing = housing.drop('MS SubClass_50', axis=1)"
   ]
  },
  {
   "cell_type": "code",
   "execution_count": 19,
   "metadata": {},
   "outputs": [],
   "source": [
    "# Drop MS SubClass_45 -- same as House Style_1.5Unf but lower\n",
    "housing = housing.drop('MS SubClass_45', axis=1)"
   ]
  },
  {
   "cell_type": "code",
   "execution_count": 20,
   "metadata": {},
   "outputs": [],
   "source": [
    "housing['Garage QualCond'] = housing['Garage Qual'] * housing['Garage Cond']\n",
    "housing = housing.drop(['Garage Qual', 'Garage Cond'], axis=1)\n",
    "\n",
    "# Garage Car and Area also have high pairwise correlation, but too important to drop here.\n",
    "# Same for Fireplaces and Fireplace Qu"
   ]
  },
  {
   "cell_type": "code",
   "execution_count": 21,
   "metadata": {},
   "outputs": [],
   "source": [
    "# Drop Garage Yr Built -- mostly same as Yr built\n",
    "housing = housing.drop('Garage Yr Blt', axis=1)"
   ]
  },
  {
   "cell_type": "markdown",
   "metadata": {},
   "source": [
    "## Dealing with Low Variance"
   ]
  },
  {
   "cell_type": "code",
   "execution_count": 22,
   "metadata": {},
   "outputs": [],
   "source": [
    "low_var_list = housing.var().sort_values(ascending=False).tail(60)"
   ]
  },
  {
   "cell_type": "code",
   "execution_count": 23,
   "metadata": {},
   "outputs": [
    {
     "name": "stdout",
     "output_type": "stream",
     "text": [
      "Neighborhood_BrDale: 19/2049 -- 0.00919%\n",
      "Garage Type_2Types: 19/2049 -- 0.00919%\n",
      "MS Zoning_C (all): 19/2049 -- 0.00919%\n",
      "Neighborhood_Veenker: 17/2049 -- 0.00823%\n",
      "Sale Type_ConLD: 17/2049 -- 0.00823%\n",
      "Neighborhood_NPkVill: 17/2049 -- 0.00823%\n",
      "MS SubClass_75: 16/2049 -- 0.00775%\n",
      "Roof Matl_Tar&Grv: 15/2049 -- 0.00727%\n",
      "House Style_2.5Unf: 14/2049 -- 0.00679%\n",
      "MS Zoning_RH: 14/2049 -- 0.00679%\n",
      "Roof Style_Flat: 13/2049 -- 0.00631%\n",
      "Mas Vnr Type_BrkCmn: 13/2049 -- 0.00631%\n",
      "House Style_1.5Unf: 12/2049 -- 0.00583%\n",
      "Roof Style_Gambrel: 12/2049 -- 0.00583%\n",
      "Condition 1_PosA: 12/2049 -- 0.00583%\n",
      "MS SubClass_180: 11/2049 -- 0.00534%\n",
      "Condition 2_Feedr: 11/2049 -- 0.00534%\n",
      "Garage Type_CarPort: 11/2049 -- 0.00534%\n",
      "Sale Type_CWD: 10/2049 -- 0.00486%\n",
      "Lot Config_FR3: 9/2049 -- 0.00438%\n",
      "Roof Style_Mansard: 7/2049 -- 0.00341%\n",
      "Street_Pave: 7/2049 -- 0.00341%\n",
      "Sale Type_ConLI: 7/2049 -- 0.00341%\n",
      "Heating_Wall: 6/2049 -- 0.00292%\n",
      "House Style_2.5Fin: 6/2049 -- 0.00292%\n",
      "Condition 1_RRNn: 6/2049 -- 0.00292%\n",
      "Neighborhood_Blueste: 6/2049 -- 0.00292%\n",
      "Roof Matl_WdShngl: 5/2049 -- 0.00244%\n",
      "Heating_Grav: 5/2049 -- 0.00244%\n",
      "Foundation_Stone: 5/2049 -- 0.00244%\n",
      "Sale Type_ConLw: 5/2049 -- 0.00244%\n",
      "Condition 2_Artery: 5/2049 -- 0.00244%\n",
      "MS SubClass_40: 4/2049 -- 0.00195%\n",
      "Roof Matl_WdShake: 4/2049 -- 0.00195%\n",
      "Misc Feature_Gar2: 4/2049 -- 0.00195%\n",
      "Sale Type_Oth: 4/2049 -- 0.00195%\n",
      "Sale Type_Con: 4/2049 -- 0.00195%\n",
      "Condition 2_PosN: 3/2049 -- 0.00146%\n",
      "Roof Style_Shed: 3/2049 -- 0.00146%\n",
      "Condition 2_PosA: 3/2049 -- 0.00146%\n",
      "ExtBrkComm: 3/2049 -- 0.00146%\n",
      "Condition 1_RRNe: 3/2049 -- 0.00146%\n",
      "Neighborhood_Greens: 3/2049 -- 0.00146%\n",
      "Foundation_Wood: 2/2049 -- 0.00098%\n",
      "MS Zoning_A (agr): 2/2049 -- 0.00098%\n",
      "Condition 2_RRNn: 2/2049 -- 0.00098%\n",
      "Utilities: 2/2049 -- 0.00098%\n",
      "Heating_OthW: 2/2049 -- 0.00098%\n",
      "Neighborhood_GrnHill: 2/2049 -- 0.00098%\n",
      "Neighborhood_Landmrk: 1/2049 -- 0.00049%\n",
      "Condition 2_RRAn: 1/2049 -- 0.00049%\n",
      "ExtAsphShn: 1/2049 -- 0.00049%\n",
      "MS SubClass_150: 1/2049 -- 0.00049%\n",
      "ExtStone: 1/2049 -- 0.00049%\n",
      "ExtImStucc: 1/2049 -- 0.00049%\n",
      "ExtCBlock: 1/2049 -- 0.00049%\n",
      "Misc Feature_TenC: 1/2049 -- 0.00049%\n",
      "MS Zoning_I (all): 1/2049 -- 0.00049%\n",
      "Condition 2_RRAe: 1/2049 -- 0.00049%\n",
      "Roof Matl_Membran: 1/2049 -- 0.00049%\n"
     ]
    }
   ],
   "source": [
    "# Sub 20 -- less than 0.01% variance\n",
    "for i in low_var_list.index:\n",
    "    print(f'{i}: {housing[i].value_counts().min()}/{len(housing.index)}', f'-- {low_var_list[i]:.5f}%')"
   ]
  },
  {
   "cell_type": "markdown",
   "metadata": {},
   "source": [
    "#### Feature Engineering"
   ]
  },
  {
   "cell_type": "code",
   "execution_count": 24,
   "metadata": {},
   "outputs": [],
   "source": [
    "housing['Combined Sale Type_Con'] = housing['Sale Type_ConLw'] + housing['Sale Type_ConLI'] \\\n",
    "                            + housing['Sale Type_Con'] + housing['Sale Type_ConLD']"
   ]
  },
  {
   "cell_type": "code",
   "execution_count": 25,
   "metadata": {},
   "outputs": [
    {
     "data": {
      "text/plain": [
       "Sale Type_COD               63\n",
       "Sale Type_CWD               10\n",
       "Sale Type_Con                4\n",
       "Sale Type_ConLD             17\n",
       "Sale Type_ConLI              7\n",
       "Sale Type_ConLw              5\n",
       "Sale Type_New              158\n",
       "Sale Type_Oth                4\n",
       "Sale Type_WD              1781\n",
       "Combined Sale Type_Con      33\n",
       "dtype: int64"
      ]
     },
     "execution_count": 25,
     "metadata": {},
     "output_type": "execute_result"
    }
   ],
   "source": [
    "housing[housing.columns[housing.columns.str.contains('Sale Type')]].sum()"
   ]
  },
  {
   "cell_type": "code",
   "execution_count": 26,
   "metadata": {},
   "outputs": [],
   "source": [
    "housing['Foundation_Other'] = housing['Foundation_Slab'] + housing['Foundation_Stone'] + housing['Foundation_Wood']"
   ]
  },
  {
   "cell_type": "code",
   "execution_count": 27,
   "metadata": {},
   "outputs": [],
   "source": [
    "# Dropping features with low variance (~0.005%)\n",
    "low_var_drop_list = [item for item in low_var_list.index]\n",
    "housing = housing.drop(low_var_drop_list, axis=1)"
   ]
  },
  {
   "cell_type": "code",
   "execution_count": 28,
   "metadata": {},
   "outputs": [
    {
     "data": {
      "text/plain": [
       "(2049, 145)"
      ]
     },
     "execution_count": 28,
     "metadata": {},
     "output_type": "execute_result"
    }
   ],
   "source": [
    "housing.shape"
   ]
  },
  {
   "cell_type": "code",
   "execution_count": 29,
   "metadata": {},
   "outputs": [],
   "source": [
    "# Cut down to 165 features, but still a bit too much."
   ]
  },
  {
   "cell_type": "code",
   "execution_count": 30,
   "metadata": {},
   "outputs": [],
   "source": [
    "features = [col for col in housing._get_numeric_data().columns if col !='SalePrice']\n",
    "features\n",
    "X = housing[features]\n",
    "y = housing['SalePrice']"
   ]
  },
  {
   "cell_type": "markdown",
   "metadata": {},
   "source": [
    "## Recursive Feature Elimination"
   ]
  },
  {
   "cell_type": "code",
   "execution_count": 40,
   "metadata": {},
   "outputs": [],
   "source": [
    "model = LinearRegression()\n",
    "rfe = RFE(model, n_features_to_select=120)\n",
    "rfe_fit = rfe.fit(X, y)\n",
    "drop_list = X.columns[~rfe_fit.get_support()]"
   ]
  },
  {
   "cell_type": "code",
   "execution_count": 41,
   "metadata": {},
   "outputs": [],
   "source": [
    "housing = housing.drop(drop_list, axis=1)"
   ]
  },
  {
   "cell_type": "markdown",
   "metadata": {},
   "source": [
    "## Apply Changes to Test Dataset"
   ]
  },
  {
   "cell_type": "code",
   "execution_count": 42,
   "metadata": {},
   "outputs": [],
   "source": [
    "def apply_changes(df):\n",
    "   \n",
    "    # Stanardize column names\n",
    "    df = df.rename(columns={'Exterior 2nd_Wd Shng': 'Exterior 2nd_WdShing'})\n",
    "    df = df.rename(columns={'Exterior 2nd_Brk Cmn': 'Exterior 2nd_BrkComm'})\n",
    "    df = df.rename(columns={'Exterior 2nd_CmentBd': 'Exterior 2nd_CemntBd'})\n",
    "\n",
    "    ext_feats = df.columns[df.columns.str.contains('Exterior 1st')]\n",
    "    \n",
    "    # Create interaction columns into \n",
    "    for i in ext_feats:\n",
    "        ext_type = i.split('_')[1]\n",
    "        df[f'Ext{ext_type}'] = df[f'Exterior 1st_{ext_type}'] * df[f'Exterior 2nd_{ext_type}']\n",
    "        df = df.drop([f'Exterior 1st_{ext_type}', f'Exterior 2nd_{ext_type}'], axis=1)\n",
    "\n",
    "    # Dropping due to pairwise correlation score of 1\n",
    "    df = df.drop(['Street_Grvl', 'MS SubClass_190', 'Central Air_N'], axis=1)\n",
    "\n",
    "    # Dropping due to perfect correlation with Bldg Type_Duplex\n",
    "    df = df.drop(['MS SubClass_90'], axis=1)\n",
    "\n",
    "    # Drop MS SubClass_80 -- same as House Style_SLevel but lower\n",
    "    df = df.drop('MS SubClass_80', axis=1)\n",
    "\n",
    "    # Drop MS SubClass_50 -- same as House Style_1.5Fin but lower\n",
    "    df = df.drop('MS SubClass_50', axis=1)\n",
    "\n",
    "    # Drop MS SubClass_45 -- same as House Style_1.5Unf but lower\n",
    "    df = df.drop('MS SubClass_45', axis=1)\n",
    "\n",
    "    df['Garage QualCond'] = df['Garage Qual'] * df['Garage Cond']\n",
    "    df = df.drop(['Garage Qual', 'Garage Cond'], axis=1)\n",
    "\n",
    "    # Drop Garage Yr Built -- mostly same as Yr built\n",
    "    df = df.drop('Garage Yr Blt', axis=1)\n",
    "\n",
    "    \n",
    "    df[df.columns[df.columns.str.contains('Sale Type')]].sum()\n",
    "    df['Combined Sale Type_Con'] = df['Sale Type_ConLw'] + df['Sale Type_ConLI'] + df['Sale Type_Con'] + df['Sale Type_ConLD']\n",
    "    df['Foundation_Other'] = df['Foundation_Slab'] + df['Foundation_Stone'] + df['Foundation_Wood']\n",
    "    \n",
    "    # Dropping features with low variance\n",
    "    low_var_drop_list = [item for item in low_var_list.index]\n",
    "    df = df.drop(low_var_drop_list, axis=1, errors='ignore')\n",
    "    \n",
    "    df = df.drop(X.columns[~rfe_fit.get_support()], axis=1)\n",
    "    \n",
    "    # Note -- we'll drop ID in the next notebook\n",
    "    \n",
    "    return df"
   ]
  },
  {
   "cell_type": "code",
   "execution_count": 43,
   "metadata": {},
   "outputs": [],
   "source": [
    "test = apply_changes(test)"
   ]
  },
  {
   "cell_type": "code",
   "execution_count": 44,
   "metadata": {},
   "outputs": [
    {
     "data": {
      "text/plain": [
       "(879, 130)"
      ]
     },
     "execution_count": 44,
     "metadata": {},
     "output_type": "execute_result"
    }
   ],
   "source": [
    "test.shape"
   ]
  },
  {
   "cell_type": "code",
   "execution_count": 45,
   "metadata": {},
   "outputs": [
    {
     "data": {
      "text/plain": [
       "(2049, 121)"
      ]
     },
     "execution_count": 45,
     "metadata": {},
     "output_type": "execute_result"
    }
   ],
   "source": [
    "housing.shape"
   ]
  },
  {
   "cell_type": "code",
   "execution_count": 46,
   "metadata": {},
   "outputs": [
    {
     "data": {
      "text/plain": [
       "['SalePrice']"
      ]
     },
     "execution_count": 46,
     "metadata": {},
     "output_type": "execute_result"
    }
   ],
   "source": [
    "[x for x in housing if x not in test]"
   ]
  },
  {
   "cell_type": "code",
   "execution_count": 47,
   "metadata": {},
   "outputs": [
    {
     "data": {
      "text/plain": [
       "['Id',\n",
       " 'Mas Vnr Type_CBlock',\n",
       " 'Roof Matl_Metal',\n",
       " 'Roof Matl_Roll',\n",
       " 'Exterior 2nd_CBlock',\n",
       " 'Exterior 2nd_ImStucc',\n",
       " 'Exterior 2nd_Other',\n",
       " 'Heating_Floor',\n",
       " 'Sale Type_VWD',\n",
       " 'ExtPreCast']"
      ]
     },
     "execution_count": 47,
     "metadata": {},
     "output_type": "execute_result"
    }
   ],
   "source": [
    "[x for x in test if x not in housing]"
   ]
  },
  {
   "cell_type": "code",
   "execution_count": 48,
   "metadata": {},
   "outputs": [],
   "source": [
    "# Drop features not in train data\n",
    "test = test.drop(['Mas Vnr Type_CBlock', 'Roof Matl_Metal', 'Roof Matl_Roll', 'Exterior 2nd_CBlock',\n",
    "                  'Exterior 2nd_ImStucc', 'Exterior 2nd_Other', 'Heating_Floor', 'Sale Type_VWD', 'ExtPreCast'], axis=1)"
   ]
  },
  {
   "cell_type": "code",
   "execution_count": 49,
   "metadata": {},
   "outputs": [],
   "source": [
    "housing.to_csv('./datasets/housing_final.csv')"
   ]
  },
  {
   "cell_type": "code",
   "execution_count": 50,
   "metadata": {},
   "outputs": [],
   "source": [
    "test.to_csv('./datasets/test_final.csv')"
   ]
  }
 ],
 "metadata": {
  "kernelspec": {
   "display_name": "Python 3",
   "language": "python",
   "name": "python3"
  },
  "language_info": {
   "codemirror_mode": {
    "name": "ipython",
    "version": 3
   },
   "file_extension": ".py",
   "mimetype": "text/x-python",
   "name": "python",
   "nbconvert_exporter": "python",
   "pygments_lexer": "ipython3",
   "version": "3.8.5"
  },
  "toc": {
   "base_numbering": 1,
   "nav_menu": {},
   "number_sections": false,
   "sideBar": true,
   "skip_h1_title": false,
   "title_cell": "Table of Contents",
   "title_sidebar": "Contents",
   "toc_cell": false,
   "toc_position": {
    "height": "calc(100% - 180px)",
    "left": "10px",
    "top": "150px",
    "width": "307.2px"
   },
   "toc_section_display": true,
   "toc_window_display": true
  }
 },
 "nbformat": 4,
 "nbformat_minor": 4
}
