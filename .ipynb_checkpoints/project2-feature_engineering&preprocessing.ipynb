{
 "cells": [
  {
   "cell_type": "code",
   "execution_count": 1,
   "metadata": {},
   "outputs": [],
   "source": [
    "# Importing libraries\n",
    "import pandas as pd\n",
    "import numpy as np\n",
    "import matplotlib.pyplot as plt\n",
    "import seaborn as sns\n",
    "%matplotlib inline"
   ]
  },
  {
   "cell_type": "code",
   "execution_count": 2,
   "metadata": {},
   "outputs": [],
   "source": [
    "from sklearn.model_selection import train_test_split, cross_val_score\n",
    "from sklearn.feature_selection import SelectKBest, f_regression\n",
    "from sklearn.linear_model import LinearRegression, LassoCV, RidgeCV, ElasticNetCV\n",
    "from sklearn.preprocessing import StandardScaler\n",
    "from sklearn.metrics import mean_squared_error, r2_score\n",
    "\n",
    "import statsmodels.api as sm\n",
    "from statsmodels.stats.outliers_influence import variance_inflation_factor"
   ]
  },
  {
   "cell_type": "code",
   "execution_count": 3,
   "metadata": {},
   "outputs": [],
   "source": [
    "# Import cleaned dataset\n",
    "housing = pd.read_csv('./datasets/housing_cleaned.csv')"
   ]
  },
  {
   "cell_type": "code",
   "execution_count": 4,
   "metadata": {},
   "outputs": [],
   "source": [
    "# Import cleaned testset\n",
    "test = pd.read_csv('./datasets/test_cleaned.csv')"
   ]
  },
  {
   "cell_type": "code",
   "execution_count": 5,
   "metadata": {},
   "outputs": [],
   "source": [
    "pd.options.display.max_rows = housing.shape[1]\n",
    "pd.options.display.max_columns = housing.shape[1]"
   ]
  },
  {
   "cell_type": "markdown",
   "metadata": {},
   "source": [
    "# Feature Engineering"
   ]
  },
  {
   "cell_type": "markdown",
   "metadata": {},
   "source": [
    "Within our top 20 positively correlated features, some features can be combined -- e.g. 'Bsmt Full Bath', 'Bsmt Half Bath', 'Full Bath', 'Half Bath' to a new feature called `Total Baths`.\n",
    "\n",
    "I'd also like to test out correlations for new discrete features such as `HasFence` or `HasGarage`."
   ]
  },
  {
   "cell_type": "markdown",
   "metadata": {},
   "source": [
    "### Combining Features"
   ]
  },
  {
   "cell_type": "code",
   "execution_count": 6,
   "metadata": {},
   "outputs": [],
   "source": [
    "def total_baths(row):\n",
    "    row['total_baths'] = row['Bsmt Full Bath'] + row['Bsmt Half Bath'] * 0.5 + row['Full Bath'] + row['Half Bath'] * 0.5\n",
    "    return row"
   ]
  },
  {
   "cell_type": "code",
   "execution_count": 7,
   "metadata": {},
   "outputs": [],
   "source": [
    "housing = housing.apply(total_baths, axis=1)"
   ]
  },
  {
   "cell_type": "markdown",
   "metadata": {},
   "source": [
    "### Creating Discrete Features"
   ]
  },
  {
   "cell_type": "code",
   "execution_count": 8,
   "metadata": {},
   "outputs": [],
   "source": [
    "# Interestingly, properties with fences have a negative correlation (-0.18) with sales price.\n",
    "# housing['HasFence'] = housing['Fence'].apply(lambda x: 1 if x > 0 else 0)"
   ]
  },
  {
   "cell_type": "code",
   "execution_count": 9,
   "metadata": {},
   "outputs": [],
   "source": [
    "# Properties with porches has a positive correlation (0.443) with sale price. We'll use this.\n",
    "housing['HasPorch'] = housing['Open Porch SF'].apply(lambda x: 1 if x > 0 else 0)"
   ]
  },
  {
   "cell_type": "code",
   "execution_count": 10,
   "metadata": {},
   "outputs": [],
   "source": [
    "# Correlation is pretty weak (0.24) so we won't use this. Additionally, almost all properties have garages.\n",
    "# housing['HasGarage'] = housing['Garage Area'].apply(lambda x: 1 if x > 0 else 0)"
   ]
  },
  {
   "cell_type": "code",
   "execution_count": 11,
   "metadata": {},
   "outputs": [],
   "source": [
    "# Correlation is pretty weak (0.24), we won't use this.\n",
    "# housing['Has2ndFlr'] = housing['2nd Flr SF'].apply(lambda x: 1 if x > 0 else 0)"
   ]
  },
  {
   "cell_type": "code",
   "execution_count": 12,
   "metadata": {},
   "outputs": [],
   "source": [
    "# HasFireplace has a slightly higher correlation than Fireplaces, so we'll use HasFireplace instead.\n",
    "housing['HasFireplace'] = housing['Fireplaces'].apply(lambda x: 1 if x > 0 else 0)"
   ]
  },
  {
   "cell_type": "markdown",
   "metadata": {},
   "source": [
    "### Polynomial Feature Engineering"
   ]
  },
  {
   "cell_type": "markdown",
   "metadata": {},
   "source": [
    "There are a couple of polynomial features that I'd like to take a look at, namely interaction columns between `Overall Qual` and `Overall Cond`, as well as `Exter Qual` and `Exter Cond`."
   ]
  },
  {
   "cell_type": "code",
   "execution_count": 13,
   "metadata": {},
   "outputs": [],
   "source": [
    "# Combining these two features gives us a decently positive correlation with salesprice (0.566). \n",
    "# However, we'll stick with Overall Qual as it has a much higher positive correlation (0.803)\n",
    "# housing['Overall QualCond'] = housing['Overall Qual'] * housing['Overall Cond']"
   ]
  },
  {
   "cell_type": "code",
   "execution_count": 14,
   "metadata": {},
   "outputs": [],
   "source": [
    "# Similarly, Exteral Qual (0.712) still has a higher correlation than Exter QualCond (0.663)\n",
    "# housing['Exter QualCond'] = housing['Exter Qual'] * housing['Exter Cond']"
   ]
  },
  {
   "cell_type": "code",
   "execution_count": 15,
   "metadata": {},
   "outputs": [],
   "source": [
    "# We're keeping Garage QualCond (0.29) as it has a higher correlation than the other two features (>0.28)\n",
    "housing['Garage QualCond'] = housing['Garage Qual'] * housing['Garage Cond']"
   ]
  },
  {
   "cell_type": "code",
   "execution_count": 16,
   "metadata": {},
   "outputs": [
    {
     "data": {
      "text/plain": [
       "0.29533028475731465"
      ]
     },
     "execution_count": 16,
     "metadata": {},
     "output_type": "execute_result"
    }
   ],
   "source": [
    "housing.corrwith(housing['SalePrice'])['Garage QualCond']"
   ]
  },
  {
   "cell_type": "code",
   "execution_count": 17,
   "metadata": {},
   "outputs": [],
   "source": [
    "# The Overall Quality of Living Area interaction feature (0.872) has a greater correlation with sale price.\n",
    "housing['Liv Area Overall Qual'] = housing['Overall Qual'] * housing['Gr Liv Area']"
   ]
  },
  {
   "cell_type": "code",
   "execution_count": 18,
   "metadata": {},
   "outputs": [
    {
     "data": {
      "text/plain": [
       "(2049, 233)"
      ]
     },
     "execution_count": 18,
     "metadata": {},
     "output_type": "execute_result"
    }
   ],
   "source": [
    "housing.shape"
   ]
  },
  {
   "cell_type": "code",
   "execution_count": 19,
   "metadata": {},
   "outputs": [],
   "source": [
    "# Garage CarArea -- due to high collinearity Garage Area = 0.655, Garage Cars = 0.648, Garage CarArea = 0.693\n",
    "housing['Garage CarArea'] = housing['Garage Area'] * housing['Garage Cars']"
   ]
  },
  {
   "cell_type": "code",
   "execution_count": 20,
   "metadata": {},
   "outputs": [],
   "source": [
    "housing['ExtCement'] = housing['Exterior 1st_CemntBd'] * housing['Exterior 2nd_CmentBd']\n",
    "housing.drop(['Exterior 1st_CemntBd', 'Exterior 2nd_CmentBd'], axis=1, inplace=True)"
   ]
  },
  {
   "cell_type": "code",
   "execution_count": 21,
   "metadata": {},
   "outputs": [],
   "source": [
    "housing['ExtVinylSd'] = housing['Exterior 1st_VinylSd'] * housing['Exterior 2nd_VinylSd']\n",
    "housing.drop(['Exterior 1st_VinylSd', 'Exterior 2nd_VinylSd'], axis=1, inplace=True)"
   ]
  },
  {
   "cell_type": "code",
   "execution_count": 22,
   "metadata": {},
   "outputs": [],
   "source": [
    "housing['ExtMetalSd'] = housing['Exterior 1st_MetalSd'] * housing['Exterior 2nd_MetalSd']\n",
    "housing.drop(['Exterior 1st_MetalSd', 'Exterior 2nd_MetalSd'], axis=1, inplace=True)"
   ]
  },
  {
   "cell_type": "code",
   "execution_count": 23,
   "metadata": {},
   "outputs": [],
   "source": [
    "housing['ExtHdBoard'] = housing['Exterior 1st_HdBoard'] * housing['Exterior 2nd_HdBoard']\n",
    "housing.drop(['Exterior 1st_HdBoard', 'Exterior 2nd_HdBoard'], axis=1, inplace=True)"
   ]
  },
  {
   "cell_type": "code",
   "execution_count": 24,
   "metadata": {},
   "outputs": [],
   "source": [
    "housing['ExtWdSdng'] = housing['Exterior 1st_Wd Sdng'] * housing['Exterior 2nd_Wd Sdng']\n",
    "housing.drop(['Exterior 1st_Wd Sdng', 'Exterior 2nd_Wd Sdng'], axis=1, inplace=True)"
   ]
  },
  {
   "cell_type": "code",
   "execution_count": 25,
   "metadata": {},
   "outputs": [],
   "source": [
    "housing['ExtAsbShng'] = housing['Exterior 1st_AsbShng'] * housing['Exterior 2nd_AsbShng']\n",
    "housing.drop(['Exterior 1st_AsbShng', 'Exterior 2nd_AsbShng'], axis=1, inplace=True)"
   ]
  },
  {
   "cell_type": "code",
   "execution_count": 26,
   "metadata": {},
   "outputs": [],
   "source": [
    "housing['ExtPlywood'] = housing['Exterior 1st_Plywood'] * housing['Exterior 2nd_Plywood']\n",
    "housing.drop(['Exterior 1st_Plywood', 'Exterior 2nd_Plywood'], axis=1, inplace=True)"
   ]
  },
  {
   "cell_type": "code",
   "execution_count": 27,
   "metadata": {},
   "outputs": [],
   "source": [
    "housing['ExtStucco'] = housing['Exterior 1st_Stucco'] * housing['Exterior 2nd_Stucco']\n",
    "housing.drop(['Exterior 1st_Stucco', 'Exterior 2nd_Stucco'], axis=1, inplace=True)"
   ]
  },
  {
   "cell_type": "code",
   "execution_count": 28,
   "metadata": {},
   "outputs": [],
   "source": [
    "housing['ExtBrkFace'] = housing['Exterior 1st_BrkFace'] * housing['Exterior 2nd_BrkFace']\n",
    "housing.drop(['Exterior 1st_BrkFace', 'Exterior 2nd_BrkFace'], axis=1, inplace=True)"
   ]
  },
  {
   "cell_type": "code",
   "execution_count": 29,
   "metadata": {},
   "outputs": [
    {
     "data": {
      "text/plain": [
       "(2049, 225)"
      ]
     },
     "execution_count": 29,
     "metadata": {},
     "output_type": "execute_result"
    }
   ],
   "source": [
    "housing.shape"
   ]
  },
  {
   "cell_type": "markdown",
   "metadata": {},
   "source": [
    "This leaves us with 225 features, which is a pretty substantial amount. In this case, our model is likely to be overfit as most of these features are probably redundant or irrelevant. Using all these features for our model leaves us with an undesirable and close to baseline RSME scores of 70,000 to 80,000, even with use of regularization."
   ]
  },
  {
   "cell_type": "markdown",
   "metadata": {},
   "source": [
    "# Feature Selection"
   ]
  },
  {
   "cell_type": "code",
   "execution_count": 30,
   "metadata": {},
   "outputs": [],
   "source": [
    "#TODO:\n",
    "# Why not just select top correlated features? \n",
    "# Anscombe’s quartet shows that using summary statistics like correlation may be a bad idea"
   ]
  },
  {
   "cell_type": "markdown",
   "metadata": {},
   "source": [
    "## Removing Features with Low Variance"
   ]
  },
  {
   "cell_type": "markdown",
   "metadata": {},
   "source": [
    "Here, we'll drop features that have a very low variance level. In this case, I'm dropping features that have 0.005% variance or less, due to their low predictive power on sale price."
   ]
  },
  {
   "cell_type": "code",
   "execution_count": 31,
   "metadata": {
    "scrolled": true
   },
   "outputs": [
    {
     "data": {
      "text/plain": [
       "Mas Vnr Type_BrkCmn     0.006307\n",
       "Roof Style_Gambrel      0.005825\n",
       "House Style_1.5Unf      0.005825\n",
       "Condition 1_PosA        0.005825\n",
       "MS SubClass_180         0.005342\n",
       "MS SubClass_45          0.005342\n",
       "Exterior 2nd_ImStucc    0.005342\n",
       "Condition 2_Feedr       0.005342\n",
       "Garage Type_CarPort     0.005342\n",
       "Sale Type_CWD           0.004859\n",
       "Lot Config_FR3          0.004375\n",
       "Roof Style_Mansard      0.003406\n",
       "Street_Pave             0.003406\n",
       "Street_Grvl             0.003406\n",
       "Sale Type_ConLI         0.003406\n",
       "Heating_Wall            0.002921\n",
       "House Style_2.5Fin      0.002921\n",
       "Exterior 2nd_Stone      0.002921\n",
       "Condition 1_RRNn        0.002921\n",
       "Neighborhood_Blueste    0.002921\n",
       "Roof Matl_WdShngl       0.002435\n",
       "Heating_Grav            0.002435\n",
       "Foundation_Stone        0.002435\n",
       "Sale Type_ConLw         0.002435\n",
       "Condition 2_Artery      0.002435\n",
       "Misc Feature_Gar2       0.001949\n",
       "MS SubClass_40          0.001949\n",
       "Roof Matl_WdShake       0.001949\n",
       "Sale Type_Con           0.001949\n",
       "Sale Type_Oth           0.001949\n",
       "Condition 2_PosN        0.001463\n",
       "Roof Style_Shed         0.001463\n",
       "Condition 2_PosA        0.001463\n",
       "Exterior 1st_BrkComm    0.001463\n",
       "Condition 1_RRNe        0.001463\n",
       "Neighborhood_Greens     0.001463\n",
       "Exterior 2nd_AsphShn    0.001463\n",
       "Exterior 2nd_CBlock     0.000976\n",
       "Foundation_Wood         0.000976\n",
       "Exterior 1st_CBlock     0.000976\n",
       "Condition 2_RRNn        0.000976\n",
       "Utilities               0.000976\n",
       "MS Zoning_A (agr)       0.000976\n",
       "Neighborhood_GrnHill    0.000976\n",
       "Heating_OthW            0.000976\n",
       "Exterior 1st_Stone      0.000976\n",
       "MS SubClass_150         0.000488\n",
       "Neighborhood_Landmrk    0.000488\n",
       "Exterior 1st_AsphShn    0.000488\n",
       "Condition 2_RRAn        0.000488\n",
       "Misc Feature_TenC       0.000488\n",
       "Condition 2_RRAe        0.000488\n",
       "Roof Matl_Membran       0.000488\n",
       "MS Zoning_I (all)       0.000488\n",
       "Exterior 1st_ImStucc    0.000488\n",
       "dtype: float64"
      ]
     },
     "execution_count": 31,
     "metadata": {},
     "output_type": "execute_result"
    }
   ],
   "source": [
    "housing.var().sort_values(ascending=False).tail(55)"
   ]
  },
  {
   "cell_type": "code",
   "execution_count": 32,
   "metadata": {},
   "outputs": [],
   "source": [
    "housing.drop(labels=['Condition 1_PosA', 'Condition 1_RRNe', 'Condition 1_RRNn', 'Condition 2_Artery', 'Condition 2_Feedr',\n",
    "            'Condition 2_PosA', 'Condition 2_PosN', 'Condition 2_RRAe', 'Condition 2_RRAn', 'Condition 2_RRNn',\n",
    "            'Exterior 1st_AsphShn', 'Exterior 1st_BrkComm', 'Exterior 1st_CBlock', 'Exterior 1st_ImStucc',\n",
    "            'Exterior 1st_Stone', 'Exterior 2nd_AsphShn', 'Exterior 2nd_CBlock', 'Exterior 2nd_ImStucc', 'Exterior 2nd_Stone',\n",
    "            'Foundation_Stone', 'Foundation_Wood', 'Garage Type_CarPort', 'Heating_Grav', 'Heating_OthW', 'Heating_Wall',\n",
    "            'House Style_1.5Unf', 'House Style_2.5Fin', 'Lot Config_FR3', 'MS SubClass_150', 'MS SubClass_180',\n",
    "            'MS SubClass_40', 'MS SubClass_45', 'MS Zoning_A (agr)', 'MS Zoning_I (all)', 'Misc Feature_Gar2',\n",
    "            'Misc Feature_TenC', 'Neighborhood_Blueste', 'Neighborhood_Greens', 'Neighborhood_GrnHill', 'Neighborhood_Landmrk',\n",
    "            'Roof Matl_Membran', 'Roof Matl_WdShake', 'Roof Matl_WdShngl', 'Roof Style_Gambrel', 'Roof Style_Mansard',\n",
    "            'Roof Style_Shed', 'Sale Type_CWD', 'Sale Type_Con', 'Sale Type_ConLI', 'Sale Type_ConLw', 'Sale Type_Oth', \n",
    "            'Street_Grvl', 'Street_Pave', 'Utilities'], axis=1, inplace=True)"
   ]
  },
  {
   "cell_type": "code",
   "execution_count": 33,
   "metadata": {},
   "outputs": [
    {
     "data": {
      "text/plain": [
       "(2049, 171)"
      ]
     },
     "execution_count": 33,
     "metadata": {},
     "output_type": "execute_result"
    }
   ],
   "source": [
    "housing.shape"
   ]
  },
  {
   "cell_type": "markdown",
   "metadata": {},
   "source": [
    "## Removing Features with High Pairwise Correlation"
   ]
  },
  {
   "cell_type": "code",
   "execution_count": 34,
   "metadata": {},
   "outputs": [],
   "source": [
    "corr_matrix = housing.corr().abs()\n",
    "\n",
    "#the matrix is symmetric so we need to extract upper triangle matrix without diagonal (k = 1)\n",
    "\n",
    "sol = (corr_matrix.where(np.triu(np.ones(corr_matrix.shape), k=1).astype(np.bool))\n",
    "                  .stack()\n",
    "                  .sort_values(ascending=False))"
   ]
  },
  {
   "cell_type": "code",
   "execution_count": 35,
   "metadata": {
    "scrolled": false
   },
   "outputs": [
    {
     "data": {
      "text/plain": [
       "Central Air_N         Central Air_Y            1.000000\n",
       "Bldg Type_Duplex      MS SubClass_90           1.000000\n",
       "Bldg Type_2fmCon      MS SubClass_190          0.977762\n",
       "Id                    Yr Sold                  0.975765\n",
       "Garage Qual           Garage QualCond          0.965072\n",
       "House Style_SLvl      MS SubClass_80           0.954550\n",
       "Garage Cond           Garage QualCond          0.954037\n",
       "Fireplace Qu          HasFireplace             0.952139\n",
       "Garage Qual           Garage Cond              0.950489\n",
       "Roof Style_Gable      Roof Style_Hip           0.948244\n",
       "House Style_1.5Fin    MS SubClass_50           0.942505\n",
       "Garage Area           Garage CarArea           0.933068\n",
       "Gr Liv Area           Liv Area Overall Qual    0.911936\n",
       "Garage Cars           Garage CarArea           0.907448\n",
       "Fireplaces            HasFireplace             0.904763\n",
       "Garage Cars           Garage Area              0.897310\n",
       "MS Zoning_FV          Neighborhood_Somerst     0.874847\n",
       "SalePrice             Liv Area Overall Qual    0.872971\n",
       "Fireplaces            Fireplace Qu             0.860785\n",
       "Pool Area             Pool QC                  0.857544\n",
       "Year Built            Garage Yr Blt            0.846403\n",
       "Overall Qual          Liv Area Overall Qual    0.824463\n",
       "Neighborhood_NPkVill  Exterior 2nd_Brk Cmn     0.822053\n",
       "Gr Liv Area           TotRms AbvGrd            0.812129\n",
       "2nd Flr SF            House Style_2Story       0.806931\n",
       "Overall Qual          SalePrice                0.803462\n",
       "MS Zoning_RL          MS Zoning_RM             0.801515\n",
       "2nd Flr SF            House Style_1Story       0.797985\n",
       "Bldg Type_TwnhsE      MS SubClass_120          0.795162\n",
       "Total Bsmt SF         1st Flr SF               0.790246\n",
       "dtype: float64"
      ]
     },
     "execution_count": 35,
     "metadata": {},
     "output_type": "execute_result"
    }
   ],
   "source": [
    "sol.head(30)"
   ]
  },
  {
   "cell_type": "markdown",
   "metadata": {},
   "source": [
    "TODO: Yr Sold = more useful than ID\n",
    "- Pairwise correlations among independent variables might be high (in absolute value). Rule of thumb: If the correlation > 0.8 then severe multicollinearity may be present\n",
    "- Neighborhoods are a stronger predictor of price?\n",
    "- Year Built is more reliable than Garage Year Built"
   ]
  },
  {
   "cell_type": "code",
   "execution_count": 36,
   "metadata": {},
   "outputs": [],
   "source": [
    "# Drop feature with high multicollinearity\n",
    "housing.drop(labels=['2nd Flr SF', 'Central Air_Y', 'Exterior 2nd_Brk Cmn', 'Fireplace Qu', \n",
    "                     'Fireplaces', 'Full Bath', 'Garage Area', 'Garage Cars', 'Garage Cond',\n",
    "                     'Garage Qual', 'Garage Yr Blt', 'Gr Liv Area', 'Id',\n",
    "                     'MS SubClass_120', 'MS SubClass_190', 'MS SubClass_20', 'MS SubClass_50',\n",
    "                     'MS SubClass_60', 'MS SubClass_75', 'MS SubClass_80', 'MS SubClass_85',\n",
    "                     'MS SubClass_90', 'MS Zoning_FV', 'MS Zoning_RL', 'Overall Qual',\n",
    "                     'Pool Area', 'Roof Style_Gable'], axis=1, inplace=True)"
   ]
  },
  {
   "cell_type": "code",
   "execution_count": 37,
   "metadata": {},
   "outputs": [
    {
     "data": {
      "text/plain": [
       "(2049, 144)"
      ]
     },
     "execution_count": 37,
     "metadata": {},
     "output_type": "execute_result"
    }
   ],
   "source": [
    "housing.shape"
   ]
  },
  {
   "cell_type": "code",
   "execution_count": 38,
   "metadata": {},
   "outputs": [],
   "source": [
    "features = [col for col in housing._get_numeric_data().columns if col !='SalePrice']\n",
    "features\n",
    "X = housing[features]\n",
    "y = housing['SalePrice']"
   ]
  },
  {
   "cell_type": "markdown",
   "metadata": {},
   "source": [
    "#### F Regression (with CV):\n",
    "1. 100 features\n",
    "Before second stage of polynomial engineering and dropping low variation/ high collinearity.\n",
    "- RMSE: 22295\n",
    "- R2: 0.914\n",
    "\n",
    "After second stage:\n",
    "- RMSE: 20933\n",
    "- R2: 0.926\n",
    "\n",
    "Around 80-100 features would be ideal.\n",
    "\n",
    "Tons of variation -- would probably be good to stop around 120. This however means that we should drop some features even before univariate feature selection."
   ]
  },
  {
   "cell_type": "markdown",
   "metadata": {},
   "source": [
    "#### Mutual information regression (without CV):\n",
    "\n",
    "1. 106 features\n",
    "- Testing RMSE: 22283\n",
    "- Testing R2: 0.919\n",
    "\n",
    "\n",
    "2. 156 features\n",
    "- Testing RMSE: 22233\n",
    "- Testing R2: 0.920"
   ]
  },
  {
   "cell_type": "markdown",
   "metadata": {},
   "source": [
    "## Recursive Feature Elimination"
   ]
  },
  {
   "cell_type": "code",
   "execution_count": 96,
   "metadata": {},
   "outputs": [
    {
     "data": {
      "text/plain": [
       "Pool QC                  19.058760\n",
       "Misc Val                 18.573198\n",
       "Roof Style_Flat          12.443812\n",
       "Mas Vnr Type_BrkCmn      12.443812\n",
       "MS Zoning_RH             11.982245\n",
       "House Style_2.5Unf       11.982245\n",
       "3Ssn Porch               11.821325\n",
       "Roof Matl_Tar&Grv        11.567335\n",
       "Low Qual Fin SF          11.495570\n",
       "Neighborhood_NPkVill     10.849428\n",
       "Neighborhood_Veenker     10.849428\n",
       "Sale Type_ConLD          10.849428\n",
       "MS Zoning_C (all)        10.247204\n",
       "Garage Type_2Types       10.247204\n",
       "Neighborhood_BrDale      10.247204\n",
       "ExtStucco                10.247204\n",
       "Heating_GasW              9.980264\n",
       "Condition 1_RRAe          9.732443\n",
       "Neighborhood_Blmngtn      9.501546\n",
       "Lot Area                  9.497895\n",
       "Neighborhood_MeadowV      9.083371\n",
       "ExtAsbShng                8.893151\n",
       "Neighborhood_ClearCr      8.544537\n",
       "Garage Type_Basment       8.544537\n",
       "Condition 1_PosN          8.544537\n",
       "Neighborhood_SWISU        7.818991\n",
       "ExtBrkFace                7.818991\n",
       "Foundation_Slab           7.574005\n",
       "Condition 1_RRAn          7.349396\n",
       "Neighborhood_StoneBr      7.142453\n",
       "Land Contour_Low          6.688654\n",
       "Exterior 1st_WdShing      6.528260\n",
       "Bldg Type_2fmCon          6.451929\n",
       "Neighborhood_Timber       6.306323\n",
       "Neighborhood_NoRidge      6.306323\n",
       "House Style_SFoyer        6.169338\n",
       "Alley_Pave                5.859385\n",
       "Misc Feature_Shed         5.802299\n",
       "Lot Config_FR2            5.588012\n",
       "Sale Type_COD             5.440484\n",
       "Exterior 2nd_Wd Shng      5.440484\n",
       "Bldg Type_Twnhs           5.173943\n",
       "Neighborhood_IDOTRR       5.173943\n",
       "Condition 1_Artery        5.132774\n",
       "Neighborhood_Crawfor      5.092447\n",
       "Bldg Type_Duplex          4.938998\n",
       "Neighborhood_BrkSide      4.902472\n",
       "Land Contour_Bnk          4.831457\n",
       "Neighborhood_Mitchel      4.696998\n",
       "Land Contour_HLS          4.602192\n",
       "Alley_Grvl                4.602192\n",
       "Neighborhood_NWAmes       4.541614\n",
       "Neighborhood_SawyerW      4.541614\n",
       "ExtCement                 4.512069\n",
       "MS SubClass_160           4.512069\n",
       "MS SubClass_70            4.454397\n",
       "BsmtFin Type 2            4.372018\n",
       "Kitchen AbvGr             4.345832\n",
       "House Style_SLvl          4.344374\n",
       "Exter Cond                4.243728\n",
       "Land Slope                4.240840\n",
       "BsmtFin SF 2              4.238771\n",
       "MS SubClass_30            4.167061\n",
       "Condition 1_Feedr         4.006415\n",
       "Bsmt Half Bath            3.967594\n",
       "Neighborhood_Sawyer       3.942015\n",
       "Screen Porch              3.856879\n",
       "Neighborhood_Gilbert      3.839973\n",
       "Neighborhood_NridgHt      3.725414\n",
       "ExtPlywood                3.688974\n",
       "Neighborhood_Somerst      3.584423\n",
       "Lot Config_CulDSac        3.567654\n",
       "Garage Type_BuiltIn       3.551062\n",
       "Neighborhood_Edwards      3.409227\n",
       "Central Air_N             3.409227\n",
       "Sale Type_New             3.172798\n",
       "Bldg Type_TwnhsE          3.134704\n",
       "Neighborhood_OldTown      3.109845\n",
       "Mas Vnr Type_Stone        3.073330\n",
       "Neighborhood_CollgCr      2.914116\n",
       "Enclosed Porch            2.863062\n",
       "Mas Vnr Area              2.570651\n",
       "House Style_1.5Fin        2.554936\n",
       "Exter Qual                2.554191\n",
       "Foundation_BrkTil         2.530170\n",
       "ExtWdSdng                 2.412653\n",
       "ExtHdBoard                2.250178\n",
       "Open Porch SF             2.242641\n",
       "Wood Deck SF              2.020507\n",
       "Fence                     1.959056\n",
       "Neighborhood_NAmes        1.947689\n",
       "MS Zoning_RM              1.916219\n",
       "ExtMetalSd                1.890549\n",
       "Lot Config_Corner         1.764464\n",
       "Roof Style_Hip            1.558754\n",
       "SalePrice                 1.556534\n",
       "Kitchen Qual              1.541191\n",
       "Garage CarArea            1.393940\n",
       "Lot Frontage              1.207735\n",
       "Liv Area Overall Qual     1.188662\n",
       "Bsmt Exposure             1.118606\n",
       "Garage Type_Detchd        1.085702\n",
       "1st Flr SF                0.962456\n",
       "House Style_2Story        0.918996\n",
       "Bsmt Unf SF               0.909573\n",
       "Mas Vnr Type_BrkFace      0.835091\n",
       "BsmtFin SF 1              0.810029\n",
       "TotRms AbvGrd             0.777953\n",
       "Half Bath                 0.746021\n",
       "ExtVinylSd                0.641051\n",
       "Overall Cond              0.636735\n",
       "Bsmt Full Bath            0.628853\n",
       "BsmtFin Type 1            0.581427\n",
       "Lot Shape                 0.547892\n",
       "total_baths               0.464023\n",
       "Total Bsmt SF             0.425474\n",
       "Bsmt Qual                 0.380884\n",
       "Bedroom AbvGr             0.369889\n",
       "Foundation_CBlock         0.319501\n",
       "Mo Sold                   0.214111\n",
       "Foundation_PConc          0.197289\n",
       "Yr Sold                   0.153706\n",
       "Garage Finish             0.114533\n",
       "PID                       0.066355\n",
       "HasFireplace             -0.047877\n",
       "House Style_1Story       -0.065481\n",
       "HasPorch                 -0.221117\n",
       "Heating QC               -0.250203\n",
       "Garage Type_Attchd       -0.370538\n",
       "Year Remod/Add           -0.449992\n",
       "Year Built               -0.607082\n",
       "Lot Config_Inside        -1.054370\n",
       "Bldg Type_1Fam           -1.746077\n",
       "Condition 1_Norm         -2.099282\n",
       "Sale Type_WD             -2.191582\n",
       "Garage QualCond          -2.262755\n",
       "Land Contour_Lvl         -2.658707\n",
       "Electrical               -2.882178\n",
       "Paved Drive              -3.131926\n",
       "Bsmt Cond                -3.478361\n",
       "Functional               -6.812696\n",
       "Heating_GasA             -7.693759\n",
       "Condition 2_Norm         -8.713880\n",
       "Roof Matl_CompShg        -8.893151\n",
       "dtype: float64"
      ]
     },
     "execution_count": 96,
     "metadata": {},
     "output_type": "execute_result"
    }
   ],
   "source": [
    "housing.skew().sort_values(ascending=False)"
   ]
  },
  {
   "cell_type": "code",
   "execution_count": 104,
   "metadata": {
    "scrolled": true
   },
   "outputs": [
    {
     "name": "stdout",
     "output_type": "stream",
     "text": [
      "1\n",
      "Testing RMSE: 40782.26714402212\n",
      "Testing R2: 0.7503679331337016\n",
      "\n",
      "2\n",
      "Testing RMSE: 37245.02927205179\n",
      "Testing R2: 0.7923467068619963\n",
      "\n",
      "3\n",
      "Testing RMSE: 35513.97295466416\n",
      "Testing R2: 0.8069228736220199\n",
      "\n",
      "4\n",
      "Testing RMSE: 34120.88237850318\n",
      "Testing R2: 0.8224120769778386\n",
      "\n",
      "5\n",
      "Testing RMSE: 32318.792601007768\n",
      "Testing R2: 0.8396126213751002\n",
      "\n",
      "6\n",
      "Testing RMSE: 30495.69162599711\n",
      "Testing R2: 0.8596870228019717\n",
      "\n",
      "7\n",
      "Testing RMSE: 30216.490328781056\n",
      "Testing R2: 0.8619004618015099\n",
      "\n",
      "8\n",
      "Testing RMSE: 29837.0081232519\n",
      "Testing R2: 0.8663461398293496\n",
      "\n",
      "9\n",
      "Testing RMSE: 29760.272888896783\n",
      "Testing R2: 0.8673057684929786\n",
      "\n",
      "10\n",
      "Testing RMSE: 29797.49192882411\n",
      "Testing R2: 0.8669691848590227\n",
      "\n",
      "11\n",
      "Testing RMSE: 29853.52594133868\n",
      "Testing R2: 0.8664811017114827\n",
      "\n",
      "12\n",
      "Testing RMSE: 29851.815707537742\n",
      "Testing R2: 0.8661653816044694\n",
      "\n",
      "13\n",
      "Testing RMSE: 29760.42666940326\n",
      "Testing R2: 0.867891328918631\n",
      "\n",
      "14\n",
      "Testing RMSE: 29188.552549478878\n",
      "Testing R2: 0.872749091286272\n",
      "\n",
      "15\n",
      "Testing RMSE: 28927.730913083633\n",
      "Testing R2: 0.8752219966081771\n",
      "\n",
      "16\n",
      "Testing RMSE: 28977.982166910522\n",
      "Testing R2: 0.8750223272354545\n",
      "\n",
      "17\n",
      "Testing RMSE: 29148.849290848822\n",
      "Testing R2: 0.8738609886465751\n",
      "\n",
      "18\n",
      "Testing RMSE: 29070.791733898528\n",
      "Testing R2: 0.874088692103973\n",
      "\n",
      "19\n",
      "Testing RMSE: 28995.897583739075\n",
      "Testing R2: 0.875029357750666\n",
      "\n",
      "20\n",
      "Testing RMSE: 27447.27663005673\n",
      "Testing R2: 0.8882872333419322\n",
      "\n",
      "21\n",
      "Testing RMSE: 27265.464611164913\n",
      "Testing R2: 0.8894816532463116\n",
      "\n",
      "22\n",
      "Testing RMSE: 26908.99405921667\n",
      "Testing R2: 0.8912557088355262\n",
      "\n",
      "23\n",
      "Testing RMSE: 26922.177779715126\n",
      "Testing R2: 0.8911393358185137\n",
      "\n",
      "24\n",
      "Testing RMSE: 26925.940175059368\n",
      "Testing R2: 0.8911226574551071\n",
      "\n",
      "25\n",
      "Testing RMSE: 26940.743148433678\n",
      "Testing R2: 0.8909462472613005\n",
      "\n",
      "26\n",
      "Testing RMSE: 27000.238092852334\n",
      "Testing R2: 0.8907708555845544\n",
      "\n",
      "27\n",
      "Testing RMSE: 27006.6706513167\n",
      "Testing R2: 0.8909370579034791\n",
      "\n",
      "28\n",
      "Testing RMSE: 26558.782371336816\n",
      "Testing R2: 0.8943484215431272\n",
      "\n",
      "29\n",
      "Testing RMSE: 26640.212619090442\n",
      "Testing R2: 0.8934500742108533\n",
      "\n",
      "30\n",
      "Testing RMSE: 26635.168982242365\n",
      "Testing R2: 0.8934366378306386\n",
      "\n",
      "31\n",
      "Testing RMSE: 26649.412189313716\n",
      "Testing R2: 0.8933558133353781\n",
      "\n",
      "32\n",
      "Testing RMSE: 26691.084212700796\n",
      "Testing R2: 0.8928747393194584\n",
      "\n",
      "33\n",
      "Testing RMSE: 26703.81529025388\n",
      "Testing R2: 0.8929764645827623\n",
      "\n",
      "34\n",
      "Testing RMSE: 26649.25466862632\n",
      "Testing R2: 0.8936597614306718\n",
      "\n",
      "35\n",
      "Testing RMSE: 27074.2901125403\n",
      "Testing R2: 0.8881392520090842\n",
      "\n",
      "36\n",
      "Testing RMSE: 27040.61217717239\n",
      "Testing R2: 0.8881954501161179\n",
      "\n",
      "37\n",
      "Testing RMSE: 26934.51370977964\n",
      "Testing R2: 0.889052998186067\n",
      "\n",
      "38\n",
      "Testing RMSE: 27046.929730626485\n",
      "Testing R2: 0.8880515473731581\n",
      "\n",
      "39\n",
      "Testing RMSE: 26971.723255423403\n",
      "Testing R2: 0.8892675020569663\n",
      "\n",
      "40\n",
      "Testing RMSE: 26613.08372485592\n",
      "Testing R2: 0.8915904888141786\n",
      "\n",
      "41\n",
      "Testing RMSE: 26658.59286586806\n",
      "Testing R2: 0.8912037290036402\n",
      "\n",
      "42\n",
      "Testing RMSE: 26753.327504721445\n",
      "Testing R2: 0.8906007564937527\n",
      "\n",
      "43\n",
      "Testing RMSE: 26783.250314793837\n",
      "Testing R2: 0.8904317305613352\n",
      "\n",
      "44\n",
      "Testing RMSE: 26799.785410582044\n",
      "Testing R2: 0.8904442350213518\n",
      "\n",
      "45\n",
      "Testing RMSE: 26740.164014382914\n",
      "Testing R2: 0.8911403744946783\n",
      "\n",
      "46\n",
      "Testing RMSE: 26719.566217319796\n",
      "Testing R2: 0.8912835769388497\n",
      "\n",
      "47\n",
      "Testing RMSE: 26757.953147401244\n",
      "Testing R2: 0.8909531110240492\n",
      "\n",
      "48\n",
      "Testing RMSE: 26794.161926285546\n",
      "Testing R2: 0.8906157841348102\n",
      "\n",
      "49\n",
      "Testing RMSE: 26797.772786740235\n",
      "Testing R2: 0.8898761607097277\n",
      "\n",
      "50\n",
      "Testing RMSE: 26845.357317476544\n",
      "Testing R2: 0.8895409406512578\n",
      "\n",
      "51\n",
      "Testing RMSE: 26843.364939003877\n",
      "Testing R2: 0.8896419072842268\n",
      "\n",
      "52\n",
      "Testing RMSE: 26944.833418625356\n",
      "Testing R2: 0.8886271508415755\n",
      "\n",
      "53\n",
      "Testing RMSE: 26958.969183768855\n",
      "Testing R2: 0.8884915540325391\n",
      "\n",
      "54\n",
      "Testing RMSE: 26794.74004764612\n",
      "Testing R2: 0.8905797463023714\n",
      "\n",
      "55\n",
      "Testing RMSE: 26893.420580581595\n",
      "Testing R2: 0.8892222765807378\n",
      "\n",
      "56\n",
      "Testing RMSE: 26310.361527198365\n",
      "Testing R2: 0.8940726314380971\n",
      "\n",
      "57\n",
      "Testing RMSE: 26267.667927483206\n",
      "Testing R2: 0.8942178057818092\n",
      "\n",
      "58\n",
      "Testing RMSE: 26258.564649432137\n",
      "Testing R2: 0.8940878126499271\n",
      "\n",
      "59\n",
      "Testing RMSE: 26314.46665135218\n",
      "Testing R2: 0.8936105995296773\n",
      "\n",
      "60\n",
      "Testing RMSE: 26381.548787377826\n",
      "Testing R2: 0.8929911776952532\n",
      "\n",
      "61\n",
      "Testing RMSE: 26344.94752286324\n",
      "Testing R2: 0.892957480685301\n",
      "\n",
      "62\n",
      "Testing RMSE: 26400.25044944498\n",
      "Testing R2: 0.8924301305574189\n",
      "\n",
      "63\n",
      "Testing RMSE: 26420.28507811206\n",
      "Testing R2: 0.8924167577573507\n",
      "\n",
      "64\n",
      "Testing RMSE: 26430.235449687883\n",
      "Testing R2: 0.8923508875736317\n",
      "\n",
      "65\n",
      "Testing RMSE: 26437.091719146607\n",
      "Testing R2: 0.8921998866649842\n",
      "\n",
      "66\n",
      "Testing RMSE: 26625.609735873484\n",
      "Testing R2: 0.8897305375485107\n",
      "\n",
      "67\n",
      "Testing RMSE: 26667.99994291785\n",
      "Testing R2: 0.8893373735498231\n",
      "\n",
      "68\n",
      "Testing RMSE: 26752.030076714418\n",
      "Testing R2: 0.8888944425137109\n",
      "\n",
      "69\n",
      "Testing RMSE: 26773.20721724447\n",
      "Testing R2: 0.888658900430148\n",
      "\n",
      "70\n",
      "Testing RMSE: 26622.75643953432\n",
      "Testing R2: 0.8898020401249692\n",
      "\n",
      "71\n",
      "Testing RMSE: 26592.953938635244\n",
      "Testing R2: 0.8902270888144713\n",
      "\n",
      "72\n",
      "Testing RMSE: 26612.0346642614\n",
      "Testing R2: 0.8900648931786115\n",
      "\n",
      "73\n",
      "Testing RMSE: 26571.379549052966\n",
      "Testing R2: 0.8904654220740058\n",
      "\n",
      "74\n",
      "Testing RMSE: 26602.32537249764\n",
      "Testing R2: 0.8902531213212199\n",
      "\n",
      "75\n",
      "Testing RMSE: 26712.164347315782\n",
      "Testing R2: 0.8892247986363883\n",
      "\n",
      "76\n",
      "Testing RMSE: 26674.306716500487\n",
      "Testing R2: 0.8895580455335639\n",
      "\n",
      "77\n",
      "Testing RMSE: 26737.308475001188\n",
      "Testing R2: 0.8889906040497502\n",
      "\n",
      "78\n",
      "Testing RMSE: 26784.588941017682\n",
      "Testing R2: 0.8880353688369432\n",
      "\n",
      "79\n",
      "Testing RMSE: 26870.82100235447\n",
      "Testing R2: 0.88749817573921\n",
      "\n",
      "80\n",
      "Testing RMSE: 26957.86919575759\n",
      "Testing R2: 0.8869746755860873\n",
      "\n",
      "81\n",
      "Testing RMSE: 26945.80309928385\n",
      "Testing R2: 0.8873583162360543\n",
      "\n",
      "82\n",
      "Testing RMSE: 26909.529423273096\n",
      "Testing R2: 0.8877072674567291\n",
      "\n",
      "83\n",
      "Testing RMSE: 26968.46575034459\n",
      "Testing R2: 0.8871457357197133\n",
      "\n",
      "84\n",
      "Testing RMSE: 26127.86793502137\n",
      "Testing R2: 0.8943598204362753\n",
      "\n",
      "85\n",
      "Testing RMSE: 26058.305274055485\n",
      "Testing R2: 0.8951571505171607\n",
      "\n",
      "86\n",
      "Testing RMSE: 26210.500311631382\n",
      "Testing R2: 0.8936503227238098\n",
      "\n",
      "87\n",
      "Testing RMSE: 26244.355968670003\n",
      "Testing R2: 0.8933946482939354\n",
      "\n",
      "88\n",
      "Testing RMSE: 25924.057881306875\n",
      "Testing R2: 0.8963434862670635\n",
      "\n",
      "89\n",
      "Testing RMSE: 25957.1155867258\n",
      "Testing R2: 0.8961574528584147\n",
      "\n",
      "90\n",
      "Testing RMSE: 25895.555877603838\n",
      "Testing R2: 0.8964143879742655\n",
      "\n",
      "91\n",
      "Testing RMSE: 25946.950976100114\n",
      "Testing R2: 0.8956570603033855\n",
      "\n",
      "92\n",
      "Testing RMSE: 26108.332184536397\n",
      "Testing R2: 0.8947904120602809\n",
      "\n",
      "93\n",
      "Testing RMSE: 26160.51491320073\n",
      "Testing R2: 0.893961738457955\n",
      "\n",
      "94\n",
      "Testing RMSE: 26101.015514719482\n",
      "Testing R2: 0.8944634053345089\n",
      "\n",
      "95\n",
      "Testing RMSE: 25068.70403023992\n",
      "Testing R2: 0.9016608877666915\n",
      "\n",
      "96\n",
      "Testing RMSE: 25132.75412335511\n",
      "Testing R2: 0.9011875361678447\n",
      "\n",
      "97\n",
      "Testing RMSE: 24981.574312591547\n",
      "Testing R2: 0.9023757024771083\n",
      "\n",
      "98\n",
      "Testing RMSE: 25068.654829040242\n",
      "Testing R2: 0.901710143642641\n",
      "\n",
      "99\n",
      "Testing RMSE: 25132.07878299186\n",
      "Testing R2: 0.9011246439424164\n",
      "\n",
      "100\n",
      "Testing RMSE: 25132.078460690944\n",
      "Testing R2: 0.9011246459827937\n",
      "\n",
      "101\n",
      "Testing RMSE: 25210.897389862577\n",
      "Testing R2: 0.9006685348032792\n",
      "\n",
      "102\n",
      "Testing RMSE: 25243.820547248903\n",
      "Testing R2: 0.9003776047266655\n",
      "\n",
      "103\n",
      "Testing RMSE: 25312.373686457355\n",
      "Testing R2: 0.8998904226983345\n",
      "\n",
      "104\n",
      "Testing RMSE: 25314.767875983183\n",
      "Testing R2: 0.8997487532046297\n",
      "\n",
      "105\n",
      "Testing RMSE: 25336.152134766235\n",
      "Testing R2: 0.8992964583041253\n",
      "\n",
      "106\n",
      "Testing RMSE: 25455.47842719306\n",
      "Testing R2: 0.8981560983476186\n",
      "\n",
      "107\n",
      "Testing RMSE: 25504.128511726343\n",
      "Testing R2: 0.8977880213576517\n",
      "\n",
      "108\n",
      "Testing RMSE: 25474.83171231349\n",
      "Testing R2: 0.8980334883976884\n",
      "\n",
      "109\n",
      "Testing RMSE: 25507.56662452877\n",
      "Testing R2: 0.8977293388442715\n",
      "\n",
      "110\n",
      "Testing RMSE: 25502.6762289392\n",
      "Testing R2: 0.8980327606498106\n",
      "\n",
      "111\n",
      "Testing RMSE: 25490.753587597857\n",
      "Testing R2: 0.8980487767838945\n",
      "\n",
      "112\n",
      "Testing RMSE: 24976.474043464324\n",
      "Testing R2: 0.9021737260150393\n",
      "\n",
      "113\n",
      "Testing RMSE: 24976.474044103612\n",
      "Testing R2: 0.9021737260095979\n",
      "\n",
      "114\n",
      "Testing RMSE: 24736.176524327093\n",
      "Testing R2: 0.9040869882242177\n",
      "\n",
      "115\n",
      "Testing RMSE: 24893.846817931437\n",
      "Testing R2: 0.9031035890146925\n",
      "\n",
      "116\n",
      "Testing RMSE: 24920.82331048719\n",
      "Testing R2: 0.9030489886005828\n",
      "\n",
      "117\n",
      "Testing RMSE: 24823.57483709651\n",
      "Testing R2: 0.903648564610777\n",
      "\n",
      "118\n",
      "Testing RMSE: 24825.23089851726\n",
      "Testing R2: 0.9037804740341734\n",
      "\n",
      "119\n",
      "Testing RMSE: 24808.688606049724\n",
      "Testing R2: 0.9040161180765459\n",
      "\n",
      "120\n",
      "Testing RMSE: 24850.24437146774\n",
      "Testing R2: 0.9035794417339424\n",
      "\n",
      "121\n",
      "Testing RMSE: 24810.625185966892\n",
      "Testing R2: 0.9039894791496735\n",
      "\n",
      "122\n",
      "Testing RMSE: 24909.063582736195\n",
      "Testing R2: 0.9033983404681869\n",
      "\n",
      "123\n",
      "Testing RMSE: 24909.063564011773\n",
      "Testing R2: 0.903398340539152\n",
      "\n",
      "124\n",
      "Testing RMSE: 25005.38337695219\n",
      "Testing R2: 0.9025291753616582\n",
      "\n"
     ]
    },
    {
     "name": "stdout",
     "output_type": "stream",
     "text": [
      "125\n",
      "Testing RMSE: 25085.580106689253\n",
      "Testing R2: 0.9018187153054396\n",
      "\n",
      "126\n",
      "Testing RMSE: 25060.246411102584\n",
      "Testing R2: 0.9020739387729251\n",
      "\n",
      "127\n",
      "Testing RMSE: 25117.857779472022\n",
      "Testing R2: 0.9015114104380503\n",
      "\n",
      "128\n",
      "Testing RMSE: 25153.742403002594\n",
      "Testing R2: 0.9011747191617523\n",
      "\n",
      "129\n",
      "Testing RMSE: 25303.25546566291\n",
      "Testing R2: 0.8995299810447366\n",
      "\n",
      "130\n",
      "Testing RMSE: 25157.128471005566\n",
      "Testing R2: 0.9013130446921069\n",
      "\n",
      "131\n",
      "Testing RMSE: 25116.99772844977\n",
      "Testing R2: 0.9015084773348189\n",
      "\n",
      "132\n",
      "Testing RMSE: 25032.88586921989\n",
      "Testing R2: 0.9021854861501255\n",
      "\n",
      "133\n",
      "Testing RMSE: 25157.758450279\n",
      "Testing R2: 0.9013553151557063\n",
      "\n",
      "134\n",
      "Testing RMSE: 25196.5327645653\n",
      "Testing R2: 0.901233991139763\n",
      "\n",
      "135\n",
      "Testing RMSE: 25228.170142492167\n",
      "Testing R2: 0.9013801987255847\n",
      "\n",
      "136\n",
      "Testing RMSE: 25223.852566365895\n",
      "Testing R2: 0.900744317213063\n",
      "\n",
      "137\n",
      "Testing RMSE: 25207.710561093565\n",
      "Testing R2: 0.9009837402834739\n",
      "\n",
      "138\n",
      "Testing RMSE: 25215.29254657205\n",
      "Testing R2: 0.9009184318103086\n",
      "\n",
      "139\n",
      "Testing RMSE: 25215.292575258205\n",
      "Testing R2: 0.900918431647644\n",
      "\n",
      "140\n",
      "Testing RMSE: 25234.58008725794\n",
      "Testing R2: 0.9007331950737202\n",
      "\n",
      "141\n",
      "Testing RMSE: 25242.942975122747\n",
      "Testing R2: 0.9006528938014234\n",
      "\n",
      "142\n",
      "Testing RMSE: 25291.372451299507\n",
      "Testing R2: 0.9002370530494126\n",
      "\n"
     ]
    }
   ],
   "source": [
    "# Initialise trackers\n",
    "best_r2 = {'i': 0,'R2': 0}\n",
    "best_rmse = {'i': 0,'RMSE': float('inf')}\n",
    "best_list = []\n",
    "    \n",
    "# feature selection\n",
    "def select_features(X_train, y_train, X_test, k_value):\n",
    "    # configure to select a subset of features\n",
    "    fs = SelectKBest(score_func=f_regression, k=k_value)\n",
    "    # learn relationship from training data\n",
    "    fs.fit(X_train, y_train)\n",
    "    # transform train input data\n",
    "    X_train_fs = fs.transform(X_train)\n",
    "    # transform test input data\n",
    "    X_test_fs = fs.transform(X_test)\n",
    "    return X_train_fs, X_test_fs, fs\n",
    " \n",
    "# load the dataset\n",
    "# split into train and test sets\n",
    "X_train, X_test, y_train, y_test = train_test_split(X, y, test_size=0.3)\n",
    "for i in range(1, len(features)):\n",
    "    with np.errstate(divide='ignore',invalid='ignore'):\n",
    "        # feature selection\n",
    "        X_train_fs, X_test_fs, fs = select_features(X_train, y_train, X_test, k_value=i)\n",
    "        # fit the model\n",
    "        model = LinearRegression()\n",
    "        model.fit(X_train_fs, y_train)\n",
    "        # evaluate the model\n",
    "        y_pred_test = model.predict(X_test_fs)\n",
    "        # evaluate predictions\n",
    "        lr_cv_scores_test = cross_val_score(model, X_test_fs, y_test, cv=10)\n",
    "        lr_cv_rsme_test = -cross_val_score(model, X_test_fs, y_test, cv=10, scoring ='neg_mean_squared_error')\n",
    "        rmse = np.sqrt(lr_cv_rsme_test.mean())\n",
    "        r2 = lr_cv_scores_test.mean()\n",
    "\n",
    "        if rmse < best_rmse['RMSE']:\n",
    "            best_rmse['i'] = i\n",
    "            best_rmse['RMSE'] = rmse\n",
    "            best_i = i\n",
    "\n",
    "        if r2 > best_r2['R2']:\n",
    "            best_r2['i'] = i\n",
    "            best_r2['R2'] = r2\n",
    "        print(i)\n",
    "        print('Testing RMSE:', rmse)\n",
    "        print('Testing R2:', r2)\n",
    "        print()\n",
    "\n",
    "best_list.append(best_i)"
   ]
  },
  {
   "cell_type": "code",
   "execution_count": 105,
   "metadata": {},
   "outputs": [
    {
     "data": {
      "text/plain": [
       "{'i': 114, 'RMSE': 24736.176524327093}"
      ]
     },
     "execution_count": 105,
     "metadata": {},
     "output_type": "execute_result"
    }
   ],
   "source": [
    "best_rmse"
   ]
  },
  {
   "cell_type": "code",
   "execution_count": 106,
   "metadata": {},
   "outputs": [
    {
     "data": {
      "text/plain": [
       "{'i': 114, 'R2': 0.9040869882242177}"
      ]
     },
     "execution_count": 106,
     "metadata": {},
     "output_type": "execute_result"
    }
   ],
   "source": [
    "best_r2"
   ]
  },
  {
   "cell_type": "code",
   "execution_count": 103,
   "metadata": {},
   "outputs": [
    {
     "data": {
      "text/plain": [
       "95.0"
      ]
     },
     "execution_count": 103,
     "metadata": {},
     "output_type": "execute_result"
    }
   ],
   "source": [
    "np.mean(best_list)"
   ]
  },
  {
   "cell_type": "markdown",
   "metadata": {},
   "source": [
    "# Preprocessing"
   ]
  },
  {
   "cell_type": "code",
   "execution_count": 43,
   "metadata": {},
   "outputs": [],
   "source": [
    "# Save IDs in a separate variable so we can retrieve them later\n",
    "test_ids = test['Id']"
   ]
  },
  {
   "cell_type": "code",
   "execution_count": 44,
   "metadata": {},
   "outputs": [],
   "source": [
    "# Apply changes to test dataset\n",
    "def apply_changes(df):\n",
    "    # Feature Creation\n",
    "    df = df.apply(total_baths, axis=1)\n",
    "    df['HasPorch'] = df['Open Porch SF'].apply(lambda x: 1 if x > 0 else 0)\n",
    "    df['HasFireplace'] = df['Fireplaces'].apply(lambda x: 1 if x > 0 else 0)\n",
    "    \n",
    "    # Polynomial Feature Engineering\n",
    "    df['Garage QualCond'] = df['Garage Qual'] * df['Garage Cond']\n",
    "    df['Liv Area Overall Qual'] = df['Overall Qual'] * df['Gr Liv Area']\n",
    "    df['Garage CarArea'] = df['Garage Area'] * df['Garage Cars']\n",
    "    \n",
    "    ## Combination of exterior 1st and 2nd features ##\n",
    "    df['ExtCement'] = df['Exterior 1st_CemntBd'] * df['Exterior 2nd_CmentBd']\n",
    "    df.drop(['Exterior 1st_CemntBd', 'Exterior 2nd_CmentBd'], axis=1, inplace=True)\n",
    "    df['ExtVinylSd'] = df['Exterior 1st_VinylSd'] * df['Exterior 2nd_VinylSd']\n",
    "    df.drop(['Exterior 1st_VinylSd', 'Exterior 2nd_VinylSd'], axis=1, inplace=True)\n",
    "    df['ExtMetalSd'] = df['Exterior 1st_MetalSd'] * df['Exterior 2nd_MetalSd']\n",
    "    df.drop(['Exterior 1st_MetalSd', 'Exterior 2nd_MetalSd'], axis=1, inplace=True)\n",
    "    df['ExtHdBoard'] = df['Exterior 1st_HdBoard'] * df['Exterior 2nd_HdBoard']\n",
    "    df.drop(['Exterior 1st_HdBoard', 'Exterior 2nd_HdBoard'], axis=1, inplace=True)\n",
    "    df['ExtWdSdng'] = df['Exterior 1st_Wd Sdng'] * df['Exterior 2nd_Wd Sdng']\n",
    "    df.drop(['Exterior 1st_Wd Sdng', 'Exterior 2nd_Wd Sdng'], axis=1, inplace=True)\n",
    "    df['ExtAsbShng'] = df['Exterior 1st_AsbShng'] * df['Exterior 2nd_AsbShng']\n",
    "    df.drop(['Exterior 1st_AsbShng', 'Exterior 2nd_AsbShng'], axis=1, inplace=True)\n",
    "    df['ExtPlywood'] = df['Exterior 1st_Plywood'] * df['Exterior 2nd_Plywood']\n",
    "    df.drop(['Exterior 1st_Plywood', 'Exterior 2nd_Plywood'], axis=1, inplace=True)\n",
    "    df['ExtStucco'] = df['Exterior 1st_Stucco'] * df['Exterior 2nd_Stucco']\n",
    "    df.drop(['Exterior 1st_Stucco', 'Exterior 2nd_Stucco'], axis=1, inplace=True)\n",
    "    df['ExtBrkFace'] = df['Exterior 1st_BrkFace'] * df['Exterior 2nd_BrkFace']\n",
    "    df.drop(['Exterior 1st_BrkFace', 'Exterior 2nd_BrkFace'], axis=1, inplace=True)\n",
    "    \n",
    "    # Dropping features with high pairwise correlation (>0.8)\n",
    "    df.drop(labels=['2nd Flr SF', 'Central Air_Y', 'Exterior 2nd_Brk Cmn', 'Fireplace Qu', \n",
    "                 'Fireplaces', 'Full Bath', 'Garage Area', 'Garage Cars', 'Garage Cond',\n",
    "                 'Garage Qual', 'Garage Yr Blt', 'Gr Liv Area', 'Id',\n",
    "                 'MS SubClass_120', 'MS SubClass_190', 'MS SubClass_20', 'MS SubClass_50',\n",
    "                 'MS SubClass_60', 'MS SubClass_75', 'MS SubClass_80', 'MS SubClass_85',\n",
    "                 'MS SubClass_90', 'MS Zoning_FV', 'MS Zoning_RL', 'Overall Qual',\n",
    "                 'Pool Area', 'Roof Style_Gable'], axis=1, inplace=True)\n",
    "    \n",
    "    # Dropping features with low variance (<=0.005)\n",
    "    df.drop(labels=['Condition 1_PosA', 'Condition 1_RRNe', 'Condition 1_RRNn', 'Condition 2_Artery', 'Condition 2_Feedr',\n",
    "        'Condition 2_PosA', 'Condition 2_PosN', 'Condition 2_RRAe', 'Condition 2_RRAn', 'Condition 2_RRNn',\n",
    "        'Exterior 1st_AsphShn', 'Exterior 1st_BrkComm', 'Exterior 1st_CBlock', 'Exterior 1st_ImStucc',\n",
    "        'Exterior 1st_Stone', 'Exterior 2nd_AsphShn', 'Exterior 2nd_CBlock', 'Exterior 2nd_ImStucc', 'Exterior 2nd_Stone',\n",
    "        'Foundation_Stone', 'Foundation_Wood', 'Garage Type_CarPort', 'Heating_Grav', 'Heating_OthW', 'Heating_Wall',\n",
    "        'House Style_1.5Unf', 'House Style_2.5Fin', 'Lot Config_FR3', 'MS SubClass_150', 'MS SubClass_180',\n",
    "        'MS SubClass_40', 'MS SubClass_45', 'MS Zoning_A (agr)', 'MS Zoning_I (all)', 'Misc Feature_Gar2',\n",
    "        'Misc Feature_TenC', 'Neighborhood_Blueste', 'Neighborhood_Greens', 'Neighborhood_GrnHill', 'Neighborhood_Landmrk',\n",
    "        'Roof Matl_Membran', 'Roof Matl_WdShake', 'Roof Matl_WdShngl', 'Roof Style_Gambrel', 'Roof Style_Mansard',\n",
    "        'Roof Style_Shed', 'Sale Type_CWD', 'Sale Type_Con', 'Sale Type_ConLI', 'Sale Type_ConLw', 'Sale Type_Oth', \n",
    "        'Street_Grvl', 'Street_Pave', 'Utilities'], axis=1, errors='ignore',inplace=True)\n",
    "    \n",
    "    return df"
   ]
  },
  {
   "cell_type": "code",
   "execution_count": 45,
   "metadata": {},
   "outputs": [],
   "source": [
    "test = apply_changes(test)"
   ]
  },
  {
   "cell_type": "code",
   "execution_count": 46,
   "metadata": {},
   "outputs": [
    {
     "data": {
      "text/plain": [
       "['SalePrice']"
      ]
     },
     "execution_count": 46,
     "metadata": {},
     "output_type": "execute_result"
    }
   ],
   "source": [
    "[x for x in housing if x not in test]"
   ]
  },
  {
   "cell_type": "code",
   "execution_count": 47,
   "metadata": {},
   "outputs": [
    {
     "data": {
      "text/plain": [
       "['Mas Vnr Type_CBlock',\n",
       " 'Roof Matl_Metal',\n",
       " 'Roof Matl_Roll',\n",
       " 'Exterior 1st_PreCast',\n",
       " 'Exterior 2nd_Other',\n",
       " 'Exterior 2nd_PreCast',\n",
       " 'Heating_Floor',\n",
       " 'Sale Type_VWD']"
      ]
     },
     "execution_count": 47,
     "metadata": {},
     "output_type": "execute_result"
    }
   ],
   "source": [
    "[x for x in test if x not in housing]"
   ]
  },
  {
   "cell_type": "code",
   "execution_count": 48,
   "metadata": {},
   "outputs": [],
   "source": [
    "# Manually drop features not present in train set\n",
    "test = test.drop([\n",
    " 'Mas Vnr Type_CBlock',\n",
    " 'Roof Matl_Metal',\n",
    " 'Roof Matl_Roll',\n",
    " 'Exterior 1st_PreCast',\n",
    " 'Exterior 2nd_Other',\n",
    " 'Exterior 2nd_PreCast',\n",
    " 'Heating_Floor',\n",
    " 'Sale Type_VWD'], axis=1)"
   ]
  },
  {
   "cell_type": "code",
   "execution_count": 49,
   "metadata": {},
   "outputs": [
    {
     "data": {
      "text/plain": [
       "Series([], dtype: int64)"
      ]
     },
     "execution_count": 49,
     "metadata": {},
     "output_type": "execute_result"
    }
   ],
   "source": [
    "test.isnull().sum()[test.isnull().sum() > 0]"
   ]
  },
  {
   "cell_type": "markdown",
   "metadata": {},
   "source": [
    "### Model Prep: Train Test Split and Scaling"
   ]
  },
  {
   "cell_type": "code",
   "execution_count": 50,
   "metadata": {},
   "outputs": [],
   "source": [
    "features = [col for col in housing._get_numeric_data().columns if col !='SalePrice']\n",
    "features\n",
    "X = housing[features]\n",
    "y = housing['SalePrice']"
   ]
  },
  {
   "cell_type": "code",
   "execution_count": 51,
   "metadata": {},
   "outputs": [],
   "source": [
    "X_train, X_test, y_train, y_test = train_test_split(X, y, test_size=0.3, random_state=42)"
   ]
  },
  {
   "cell_type": "code",
   "execution_count": 52,
   "metadata": {},
   "outputs": [],
   "source": [
    "ss = StandardScaler()\n",
    "ss.fit(X_train)\n",
    "\n",
    "X_train_scaled = ss.transform(X_train)\n",
    "X_test_scaled = ss.transform(X_test)"
   ]
  },
  {
   "cell_type": "markdown",
   "metadata": {},
   "source": [
    "### Instantiate Models"
   ]
  },
  {
   "cell_type": "code",
   "execution_count": 53,
   "metadata": {},
   "outputs": [],
   "source": [
    "lr = LinearRegression()"
   ]
  },
  {
   "cell_type": "code",
   "execution_count": 54,
   "metadata": {},
   "outputs": [],
   "source": [
    "#Ridge Model\n",
    "ridge = RidgeCV(alphas=np.linspace(15,30,150))"
   ]
  },
  {
   "cell_type": "code",
   "execution_count": 55,
   "metadata": {},
   "outputs": [],
   "source": [
    "#Lasso Model\n",
    "lasso = LassoCV(n_alphas=100)"
   ]
  },
  {
   "cell_type": "markdown",
   "metadata": {},
   "source": [
    "### Cross Validation"
   ]
  },
  {
   "cell_type": "code",
   "execution_count": 56,
   "metadata": {
    "scrolled": true
   },
   "outputs": [
    {
     "data": {
      "text/plain": [
       "0.9125798876636642"
      ]
     },
     "execution_count": 56,
     "metadata": {},
     "output_type": "execute_result"
    }
   ],
   "source": [
    "lr_cv_scores = cross_val_score(lr,X_train_scaled,y_train,cv=5)\n",
    "lr_cv_scores.mean()"
   ]
  },
  {
   "cell_type": "code",
   "execution_count": 57,
   "metadata": {},
   "outputs": [
    {
     "data": {
      "text/plain": [
       "22942.049459166385"
      ]
     },
     "execution_count": 57,
     "metadata": {},
     "output_type": "execute_result"
    }
   ],
   "source": [
    "lr_cv_mse_scores = -cross_val_score(lr,X_train_scaled,y_train,cv=5, scoring ='neg_mean_squared_error')\n",
    "np.sqrt(lr_cv_mse_scores.mean())"
   ]
  },
  {
   "cell_type": "code",
   "execution_count": 58,
   "metadata": {},
   "outputs": [
    {
     "data": {
      "text/plain": [
       "0.9136316643077673"
      ]
     },
     "execution_count": 58,
     "metadata": {},
     "output_type": "execute_result"
    }
   ],
   "source": [
    "ridge_cv_scores = cross_val_score(ridge,X_train_scaled,y_train,cv=5)\n",
    "ridge_cv_scores.mean()"
   ]
  },
  {
   "cell_type": "code",
   "execution_count": 59,
   "metadata": {},
   "outputs": [
    {
     "data": {
      "text/plain": [
       "0.9136316643077673"
      ]
     },
     "execution_count": 59,
     "metadata": {},
     "output_type": "execute_result"
    }
   ],
   "source": [
    "ridge_cv_scores = cross_val_score(ridge,X_train_scaled,y_train,cv=5)\n",
    "ridge_cv_scores.mean()"
   ]
  },
  {
   "cell_type": "code",
   "execution_count": 60,
   "metadata": {},
   "outputs": [
    {
     "data": {
      "text/plain": [
       "22819.93103286367"
      ]
     },
     "execution_count": 60,
     "metadata": {},
     "output_type": "execute_result"
    }
   ],
   "source": [
    "ridge_cv_mse_scores = -cross_val_score(ridge,X_train_scaled,y_train,cv=5, scoring ='neg_mean_squared_error')\n",
    "np.sqrt(ridge_cv_mse_scores.mean())"
   ]
  },
  {
   "cell_type": "code",
   "execution_count": 61,
   "metadata": {},
   "outputs": [
    {
     "data": {
      "text/plain": [
       "0.9158361854839734"
      ]
     },
     "execution_count": 61,
     "metadata": {},
     "output_type": "execute_result"
    }
   ],
   "source": [
    "lasso_cv_scores = cross_val_score(lasso, X_train_scaled,y_train, cv=5)\n",
    "lasso_cv_scores.mean()"
   ]
  },
  {
   "cell_type": "code",
   "execution_count": 62,
   "metadata": {},
   "outputs": [
    {
     "data": {
      "text/plain": [
       "22568.88419487814"
      ]
     },
     "execution_count": 62,
     "metadata": {},
     "output_type": "execute_result"
    }
   ],
   "source": [
    "lasso_cv_mse_scores = -cross_val_score(lasso, X_train_scaled,y_train, cv=5,scoring ='neg_mean_squared_error')\n",
    "np.sqrt(lasso_cv_mse_scores.mean())"
   ]
  },
  {
   "cell_type": "markdown",
   "metadata": {},
   "source": [
    "### Model Fitting and Evaluation"
   ]
  },
  {
   "cell_type": "markdown",
   "metadata": {},
   "source": [
    "#### Linear Regression Model"
   ]
  },
  {
   "cell_type": "code",
   "execution_count": 63,
   "metadata": {},
   "outputs": [
    {
     "name": "stdout",
     "output_type": "stream",
     "text": [
      "Training R2(LR): 0.9360928340226031\n",
      "Testing R2(LR): 0.9274004168131353\n",
      "Estimate of Testing R2(LR): 0.9125798876636642\n"
     ]
    }
   ],
   "source": [
    "lr.fit(X_train_scaled,y_train)\n",
    "\n",
    "print(\"Training R2(LR): \" + str(lr.score(X_train_scaled,y_train)))\n",
    "print(\"Testing R2(LR): \" + str(lr.score(X_test_scaled,y_test)))\n",
    "print(\"Estimate of Testing R2(LR): \" + str(lr_cv_scores.mean()))"
   ]
  },
  {
   "cell_type": "code",
   "execution_count": 64,
   "metadata": {},
   "outputs": [
    {
     "name": "stdout",
     "output_type": "stream",
     "text": [
      "Training MSE(LR): 19732.89679663596\n",
      "Testing MSE(LR): 22063.98746569511\n",
      "Estimate of Testing RMSE(LR): 22942.049459166385\n"
     ]
    }
   ],
   "source": [
    "print(\"Training MSE(LR): \" + str(np.sqrt(mean_squared_error(y_train, lr.predict(X_train_scaled)))))\n",
    "print(\"Testing MSE(LR): \" + str(np.sqrt(mean_squared_error(y_test,lr.predict(X_test_scaled)))))\n",
    "print(\"Estimate of Testing RMSE(LR): \" + str(np.sqrt(lr_cv_mse_scores.mean())))"
   ]
  },
  {
   "cell_type": "markdown",
   "metadata": {},
   "source": [
    "#### Ridge Regression Model"
   ]
  },
  {
   "cell_type": "code",
   "execution_count": 65,
   "metadata": {},
   "outputs": [],
   "source": [
    "ridge.fit(X_train_scaled,y_train);"
   ]
  },
  {
   "cell_type": "code",
   "execution_count": 66,
   "metadata": {},
   "outputs": [
    {
     "data": {
      "text/plain": [
       "22.953020134228186"
      ]
     },
     "execution_count": 66,
     "metadata": {},
     "output_type": "execute_result"
    }
   ],
   "source": [
    "# Optimal ridge alpha\n",
    "ridge.alpha_"
   ]
  },
  {
   "cell_type": "code",
   "execution_count": 67,
   "metadata": {},
   "outputs": [
    {
     "name": "stdout",
     "output_type": "stream",
     "text": [
      "Training R2(ridge) 0.9353410231407246\n",
      "Testing R2(ridge) 0.9268155433221792\n",
      "Estimate of Testing R2(ridge) 0.9136316643077673\n"
     ]
    }
   ],
   "source": [
    "print(\"Training R2(ridge) \" + str(ridge.score(X_train_scaled,y_train)))\n",
    "print(\"Testing R2(ridge) \" + str(ridge.score(X_test_scaled,y_test)))\n",
    "print(\"Estimate of Testing R2(ridge) \" + str(ridge_cv_scores.mean()))"
   ]
  },
  {
   "cell_type": "code",
   "execution_count": 68,
   "metadata": {},
   "outputs": [
    {
     "name": "stdout",
     "output_type": "stream",
     "text": [
      "Training MSE(Ridge)  19848.62740173314\n",
      "Testing MSE(Ridge)  22152.68463534749\n",
      "Estimate of Testing RMSE (Ridge) 22819.93103286367\n"
     ]
    }
   ],
   "source": [
    "print(\"Training MSE(Ridge) \", np.sqrt(mean_squared_error(y_train, ridge.predict(X_train_scaled))))\n",
    "print(\"Testing MSE(Ridge) \", np.sqrt(mean_squared_error(y_test,ridge.predict(X_test_scaled))))\n",
    "print(\"Estimate of Testing RMSE (Ridge) \" + str(np.sqrt(ridge_cv_mse_scores.mean())))"
   ]
  },
  {
   "cell_type": "code",
   "execution_count": 69,
   "metadata": {
    "scrolled": false
   },
   "outputs": [
    {
     "data": {
      "text/plain": [
       "<matplotlib.axes._subplots.AxesSubplot at 0x1f03d4d4d60>"
      ]
     },
     "execution_count": 69,
     "metadata": {},
     "output_type": "execute_result"
    },
    {
     "data": {
      "image/png": "[encoded data removed]",
      "text/plain": [
       "<Figure size 1080x3240 with 1 Axes>"
      ]
     },
     "metadata": {
      "needs_background": "light"
     },
     "output_type": "display_data"
    }
   ],
   "source": [
    "pd.Series(ridge.coef_, index=features).sort_values(ascending=True).plot.barh(figsize=(15,45))"
   ]
  },
  {
   "cell_type": "markdown",
   "metadata": {},
   "source": [
    "#### Lasso Regression Model"
   ]
  },
  {
   "cell_type": "code",
   "execution_count": 70,
   "metadata": {},
   "outputs": [
    {
     "data": {
      "text/plain": [
       "LassoCV()"
      ]
     },
     "execution_count": 70,
     "metadata": {},
     "output_type": "execute_result"
    }
   ],
   "source": [
    "lasso.fit(X_train_scaled,y_train)"
   ]
  },
  {
   "cell_type": "code",
   "execution_count": 71,
   "metadata": {},
   "outputs": [
    {
     "data": {
      "text/plain": [
       "480.5186033139987"
      ]
     },
     "execution_count": 71,
     "metadata": {},
     "output_type": "execute_result"
    }
   ],
   "source": [
    "lasso.alpha_"
   ]
  },
  {
   "cell_type": "code",
   "execution_count": 72,
   "metadata": {},
   "outputs": [
    {
     "name": "stdout",
     "output_type": "stream",
     "text": [
      "Training R2(Lasso)  0.9309027597270113\n",
      "Testing R2(Lasso): 0.9285154623217632\n",
      "Estimate of Testing R2(Lasso): 0.9158361854839734\n"
     ]
    }
   ],
   "source": [
    "print(\"Training R2(Lasso) \", lasso.score(X_train_scaled,y_train))\n",
    "print(\"Testing R2(Lasso):\", lasso.score(X_test_scaled,y_test))\n",
    "print(\"Estimate of Testing R2(Lasso):\", lasso_cv_scores.mean())"
   ]
  },
  {
   "cell_type": "code",
   "execution_count": 73,
   "metadata": {},
   "outputs": [
    {
     "name": "stdout",
     "output_type": "stream",
     "text": [
      "Training MSE(Lasso): 20518.538154554666\n",
      "Testing MSE(Lasso): 21893.89317985144\n",
      "Estimate of Testing RMSE(Lasso): 22568.88419487814\n"
     ]
    }
   ],
   "source": [
    "print(\"Training MSE(Lasso):\", np.sqrt(mean_squared_error(y_train, lasso.predict(X_train_scaled))))\n",
    "print(\"Testing MSE(Lasso):\", np.sqrt(mean_squared_error(y_test, lasso.predict(X_test_scaled))))\n",
    "print(\"Estimate of Testing RMSE(Lasso):\", np.sqrt(lasso_cv_mse_scores.mean()))"
   ]
  },
  {
   "cell_type": "code",
   "execution_count": 74,
   "metadata": {
    "scrolled": false
   },
   "outputs": [
    {
     "data": {
      "text/plain": [
       "<matplotlib.axes._subplots.AxesSubplot at 0x1f03cd068b0>"
      ]
     },
     "execution_count": 74,
     "metadata": {},
     "output_type": "execute_result"
    },
    {
     "data": {
      "image/png": "[encoded data removed]",
      "text/plain": [
       "<Figure size 1080x3240 with 1 Axes>"
      ]
     },
     "metadata": {
      "needs_background": "light"
     },
     "output_type": "display_data"
    }
   ],
   "source": [
    "pd.Series(lasso.coef_, index=features).plot.barh(figsize=(15,45))"
   ]
  },
  {
   "cell_type": "code",
   "execution_count": 75,
   "metadata": {},
   "outputs": [],
   "source": [
    "'''lasso_list = (sorted(zip(X.columns, lasso.coef_), key=lambda t: t[1], reverse=True))\n",
    "\n",
    "counter = 0\n",
    "for i in lasso_list:\n",
    "    if i[1] == 0:\n",
    "        counter += 1\n",
    "print(counter)''';"
   ]
  },
  {
   "cell_type": "code",
   "execution_count": 76,
   "metadata": {},
   "outputs": [],
   "source": [
    "lasso_preds = lasso.predict(X_train_scaled)"
   ]
  },
  {
   "cell_type": "code",
   "execution_count": 77,
   "metadata": {},
   "outputs": [
    {
     "data": {
      "text/plain": [
       "<matplotlib.axes._subplots.AxesSubplot at 0x1f03f475eb0>"
      ]
     },
     "execution_count": 77,
     "metadata": {},
     "output_type": "execute_result"
    },
    {
     "data": {
      "image/png": "[encoded data removed]",
      "text/plain": [
       "<Figure size 720x576 with 1 Axes>"
      ]
     },
     "metadata": {
      "needs_background": "light"
     },
     "output_type": "display_data"
    }
   ],
   "source": [
    "plt.figure(figsize=(10,8))\n",
    "sns.regplot(data=X_train_scaled, x=lasso_preds, y=y_train, marker='x', color='skyblue', line_kws={'color':'blue'})"
   ]
  },
  {
   "cell_type": "code",
   "execution_count": 78,
   "metadata": {},
   "outputs": [
    {
     "data": {
      "text/plain": [
       "array([166053.18510436, 272450.82795106, 106693.33240329, ...,\n",
       "       184833.8803613 ,  70293.585491  , 231373.97435657])"
      ]
     },
     "execution_count": 78,
     "metadata": {},
     "output_type": "execute_result"
    }
   ],
   "source": [
    "lasso_preds"
   ]
  },
  {
   "cell_type": "markdown",
   "metadata": {},
   "source": [
    "#### ElasticNet CV"
   ]
  },
  {
   "cell_type": "code",
   "execution_count": 79,
   "metadata": {},
   "outputs": [],
   "source": [
    "enet_alphas = np.arange(0.01, 1.0, 0.005)\n",
    "enet_ratio = 0.5\n",
    "enet = ElasticNetCV(alphas=enet_alphas, l1_ratio=enet_ratio, cv=5)\n",
    "enet = enet.fit(X_train_scaled, y_train)"
   ]
  },
  {
   "cell_type": "code",
   "execution_count": 80,
   "metadata": {},
   "outputs": [
    {
     "data": {
      "text/plain": [
       "0.05499999999999999"
      ]
     },
     "execution_count": 80,
     "metadata": {},
     "output_type": "execute_result"
    }
   ],
   "source": [
    "# Here is the optimal value of alpha\n",
    "enet_optimal_alpha = enet.alpha_\n",
    "enet_optimal_alpha"
   ]
  },
  {
   "cell_type": "code",
   "execution_count": 81,
   "metadata": {},
   "outputs": [
    {
     "data": {
      "text/plain": [
       "0.9123703623633721"
      ]
     },
     "execution_count": 81,
     "metadata": {},
     "output_type": "execute_result"
    }
   ],
   "source": [
    "enet_cv_scores = cross_val_score(enet,X_train_scaled,y_train,cv=5)\n",
    "enet_cv_scores.mean()"
   ]
  },
  {
   "cell_type": "code",
   "execution_count": 82,
   "metadata": {},
   "outputs": [
    {
     "data": {
      "text/plain": [
       "22996.648058089926"
      ]
     },
     "execution_count": 82,
     "metadata": {},
     "output_type": "execute_result"
    }
   ],
   "source": [
    "enet_cv_mse_scores = -cross_val_score(enet,X_train_scaled,y_train,cv=5, scoring ='neg_mean_squared_error')\n",
    "np.sqrt(enet_cv_mse_scores.mean())"
   ]
  },
  {
   "cell_type": "code",
   "execution_count": 83,
   "metadata": {},
   "outputs": [
    {
     "name": "stdout",
     "output_type": "stream",
     "text": [
      "Training R2(ElasticNet) 0.9348343091188813\n",
      "Testing R2(ElasticNet) 0.9262884870392291\n",
      "Estimate of Testing R2(ElasticNet) 0.9123703623633721\n"
     ]
    }
   ],
   "source": [
    "print(\"Training R2(ElasticNet) \" + str(enet.score(X_train_scaled,y_train)))\n",
    "print(\"Testing R2(ElasticNet) \" + str(enet.score(X_test_scaled,y_test)))\n",
    "print(\"Estimate of Testing R2(ElasticNet) \" + str(enet_cv_scores.mean()))"
   ]
  },
  {
   "cell_type": "code",
   "execution_count": 84,
   "metadata": {},
   "outputs": [
    {
     "name": "stdout",
     "output_type": "stream",
     "text": [
      "Training MSE(ElasticNet) 19926.249648057812\n",
      "Testing MSE(ElasticNet) 22232.310597695585\n",
      "Estimate of Testing RMSE(ElasticNet) 22996.648058089926\n"
     ]
    }
   ],
   "source": [
    "print(\"Training MSE(ElasticNet) \" + str(np.sqrt(mean_squared_error(y_train, enet.predict(X_train_scaled)))))\n",
    "print(\"Testing MSE(ElasticNet) \" + str(np.sqrt(mean_squared_error(y_test, enet.predict(X_test_scaled)))))\n",
    "print(\"Estimate of Testing RMSE(ElasticNet) \" + str(np.sqrt(enet_cv_mse_scores.mean())))"
   ]
  },
  {
   "cell_type": "markdown",
   "metadata": {},
   "source": [
    "# Final Submission"
   ]
  },
  {
   "cell_type": "code",
   "execution_count": 85,
   "metadata": {},
   "outputs": [
    {
     "data": {
      "text/plain": [
       "0.932912418722352"
      ]
     },
     "execution_count": 85,
     "metadata": {},
     "output_type": "execute_result"
    }
   ],
   "source": [
    "# Refit model\n",
    "X_scaled = ss.fit_transform(X)\n",
    "lasso.fit(X_scaled, y)\n",
    "lasso.score(X_scaled,y)"
   ]
  },
  {
   "cell_type": "code",
   "execution_count": 86,
   "metadata": {},
   "outputs": [
    {
     "data": {
      "text/plain": [
       "0.9365565875384105"
      ]
     },
     "execution_count": 86,
     "metadata": {},
     "output_type": "execute_result"
    }
   ],
   "source": [
    "enet.fit(X_scaled, y)\n",
    "enet.score(X_scaled,y)"
   ]
  },
  {
   "cell_type": "code",
   "execution_count": 87,
   "metadata": {},
   "outputs": [
    {
     "data": {
      "text/plain": [
       "79"
      ]
     },
     "execution_count": 87,
     "metadata": {},
     "output_type": "execute_result"
    }
   ],
   "source": [
    "# 79 features remaining, with 64 zeroed out by lasso regression\n",
    "len(features) - 64"
   ]
  },
  {
   "cell_type": "code",
   "execution_count": 88,
   "metadata": {},
   "outputs": [],
   "source": [
    "final_test_scaled = ss.transform(test)"
   ]
  },
  {
   "cell_type": "code",
   "execution_count": 89,
   "metadata": {},
   "outputs": [],
   "source": [
    "final_predictions = enet.predict(final_test_scaled)"
   ]
  },
  {
   "cell_type": "code",
   "execution_count": 90,
   "metadata": {},
   "outputs": [],
   "source": [
    "test['SalePrice'] = final_predictions"
   ]
  },
  {
   "cell_type": "code",
   "execution_count": 91,
   "metadata": {},
   "outputs": [],
   "source": [
    "test['Id'] = test_ids"
   ]
  },
  {
   "cell_type": "code",
   "execution_count": 92,
   "metadata": {},
   "outputs": [
    {
     "data": {
      "text/html": [
       "<div>\n",
       "<style scoped>\n",
       "    .dataframe tbody tr th:only-of-type {\n",
       "        vertical-align: middle;\n",
       "    }\n",
       "\n",
       "    .dataframe tbody tr th {\n",
       "        vertical-align: top;\n",
       "    }\n",
       "\n",
       "    .dataframe thead th {\n",
       "        text-align: right;\n",
       "    }\n",
       "</style>\n",
       "<table border=\"1\" class=\"dataframe\">\n",
       "  <thead>\n",
       "    <tr style=\"text-align: right;\">\n",
       "      <th></th>\n",
       "      <th>Id</th>\n",
       "      <th>SalePrice</th>\n",
       "    </tr>\n",
       "  </thead>\n",
       "  <tbody>\n",
       "    <tr>\n",
       "      <th>0</th>\n",
       "      <td>2658</td>\n",
       "      <td>141396.196774</td>\n",
       "    </tr>\n",
       "    <tr>\n",
       "      <th>1</th>\n",
       "      <td>2718</td>\n",
       "      <td>155161.729266</td>\n",
       "    </tr>\n",
       "    <tr>\n",
       "      <th>2</th>\n",
       "      <td>2414</td>\n",
       "      <td>216004.441972</td>\n",
       "    </tr>\n",
       "    <tr>\n",
       "      <th>3</th>\n",
       "      <td>1989</td>\n",
       "      <td>104108.493874</td>\n",
       "    </tr>\n",
       "    <tr>\n",
       "      <th>4</th>\n",
       "      <td>625</td>\n",
       "      <td>173788.075631</td>\n",
       "    </tr>\n",
       "  </tbody>\n",
       "</table>\n",
       "</div>"
      ],
      "text/plain": [
       "     Id      SalePrice\n",
       "0  2658  141396.196774\n",
       "1  2718  155161.729266\n",
       "2  2414  216004.441972\n",
       "3  1989  104108.493874\n",
       "4   625  173788.075631"
      ]
     },
     "execution_count": 92,
     "metadata": {},
     "output_type": "execute_result"
    }
   ],
   "source": [
    "# Create csv for submission\n",
    "submission = test[['Id','SalePrice']]\n",
    "submission.to_csv('./datasets/kaggle_submission.csv', index=False)\n",
    "\n",
    "#View submission\n",
    "submission.head()"
   ]
  },
  {
   "cell_type": "code",
   "execution_count": 93,
   "metadata": {},
   "outputs": [],
   "source": [
    "# RMSE of 23736.96143"
   ]
  }
 ],
 "metadata": {
  "kernelspec": {
   "display_name": "Python 3",
   "language": "python",
   "name": "python3"
  },
  "language_info": {
   "codemirror_mode": {
    "name": "ipython",
    "version": 3
   },
   "file_extension": ".py",
   "mimetype": "text/x-python",
   "name": "python",
   "nbconvert_exporter": "python",
   "pygments_lexer": "ipython3",
   "version": "3.8.3"
  },
  "toc": {
   "base_numbering": 1,
   "nav_menu": {},
   "number_sections": false,
   "sideBar": true,
   "skip_h1_title": false,
   "title_cell": "Table of Contents",
   "title_sidebar": "Contents",
   "toc_cell": false,
   "toc_position": {
    "height": "calc(100% - 180px)",
    "left": "10px",
    "top": "150px",
    "width": "314.075px"
   },
   "toc_section_display": true,
   "toc_window_display": true
  }
 },
 "nbformat": 4,
 "nbformat_minor": 4
}
